{
  "nbformat": 4,
  "nbformat_minor": 0,
  "metadata": {
    "colab": {
      "provenance": [],
      "authorship_tag": "ABX9TyPFOTr4QfZUbuMY7vZQ31RX",
      "include_colab_link": true
    },
    "kernelspec": {
      "name": "python3",
      "display_name": "Python 3"
    },
    "language_info": {
      "name": "python"
    }
  },
  "cells": [
    {
      "cell_type": "markdown",
      "metadata": {
        "id": "view-in-github",
        "colab_type": "text"
      },
      "source": [
        "<a href=\"https://colab.research.google.com/github/wrwilliam/tensorflow/blob/master/exercise2_Wei_Ruan.ipynb\" target=\"_parent\"><img src=\"https://colab.research.google.com/assets/colab-badge.svg\" alt=\"Open In Colab\"/></a>"
      ]
    },
    {
      "cell_type": "code",
      "execution_count": 245,
      "metadata": {
        "id": "B5dbvaw8rSTn"
      },
      "outputs": [],
      "source": [
        "import pandas as pd"
      ]
    },
    {
      "cell_type": "markdown",
      "source": [
        "**import dataset of Titanic**"
      ],
      "metadata": {
        "id": "pmHH_rvg2v4N"
      }
    },
    {
      "cell_type": "code",
      "source": [
        "url=\"https://raw.githubusercontent.com/wrwilliam/my_data7390/main/Titanic_full.csv\""
      ],
      "metadata": {
        "id": "UQ6-SpO4rYyP"
      },
      "execution_count": 246,
      "outputs": []
    },
    {
      "cell_type": "code",
      "source": [
        "df=pd.read_csv(url,encoding=\"unicode_escape\")\n",
        "# df=pd.read_csv(url)"
      ],
      "metadata": {
        "id": "HTcNkQxzrY2P"
      },
      "execution_count": 247,
      "outputs": []
    },
    {
      "cell_type": "code",
      "source": [
        "df.head()"
      ],
      "metadata": {
        "colab": {
          "base_uri": "https://localhost:8080/",
          "height": 285
        },
        "id": "qRnd6mKvrY53",
        "outputId": "8ff63efd-5409-416f-c50e-9312f3a5a5bb"
      },
      "execution_count": 248,
      "outputs": [
        {
          "output_type": "execute_result",
          "data": {
            "text/plain": [
              "   PassengerId  Survived  Pclass  \\\n",
              "0            1         0       3   \n",
              "1            2         1       1   \n",
              "2            3         1       3   \n",
              "3            4         1       1   \n",
              "4            5         0       3   \n",
              "\n",
              "                                                Name     Sex   Age  SibSp  \\\n",
              "0                            Braund, Mr. Owen Harris    male  22.0      1   \n",
              "1  Cumings, Mrs. John Bradley (Florence Briggs Th...  female  38.0      1   \n",
              "2                             Heikkinen, Miss. Laina  female  26.0      0   \n",
              "3       Futrelle, Mrs. Jacques Heath (Lily May Peel)  female  35.0      1   \n",
              "4                           Allen, Mr. William Henry    male  35.0      0   \n",
              "\n",
              "   Parch            Ticket     Fare Cabin Embarked  \n",
              "0      0         A/5 21171   7.2500   NaN        S  \n",
              "1      0          PC 17599  71.2833   C85        C  \n",
              "2      0  STON/O2. 3101282   7.9250   NaN        S  \n",
              "3      0            113803  53.1000  C123        S  \n",
              "4      0            373450   8.0500   NaN        S  "
            ],
            "text/html": [
              "\n",
              "  <div id=\"df-b2ff0438-cc72-4988-86b4-844894fc358d\">\n",
              "    <div class=\"colab-df-container\">\n",
              "      <div>\n",
              "<style scoped>\n",
              "    .dataframe tbody tr th:only-of-type {\n",
              "        vertical-align: middle;\n",
              "    }\n",
              "\n",
              "    .dataframe tbody tr th {\n",
              "        vertical-align: top;\n",
              "    }\n",
              "\n",
              "    .dataframe thead th {\n",
              "        text-align: right;\n",
              "    }\n",
              "</style>\n",
              "<table border=\"1\" class=\"dataframe\">\n",
              "  <thead>\n",
              "    <tr style=\"text-align: right;\">\n",
              "      <th></th>\n",
              "      <th>PassengerId</th>\n",
              "      <th>Survived</th>\n",
              "      <th>Pclass</th>\n",
              "      <th>Name</th>\n",
              "      <th>Sex</th>\n",
              "      <th>Age</th>\n",
              "      <th>SibSp</th>\n",
              "      <th>Parch</th>\n",
              "      <th>Ticket</th>\n",
              "      <th>Fare</th>\n",
              "      <th>Cabin</th>\n",
              "      <th>Embarked</th>\n",
              "    </tr>\n",
              "  </thead>\n",
              "  <tbody>\n",
              "    <tr>\n",
              "      <th>0</th>\n",
              "      <td>1</td>\n",
              "      <td>0</td>\n",
              "      <td>3</td>\n",
              "      <td>Braund, Mr. Owen Harris</td>\n",
              "      <td>male</td>\n",
              "      <td>22.0</td>\n",
              "      <td>1</td>\n",
              "      <td>0</td>\n",
              "      <td>A/5 21171</td>\n",
              "      <td>7.2500</td>\n",
              "      <td>NaN</td>\n",
              "      <td>S</td>\n",
              "    </tr>\n",
              "    <tr>\n",
              "      <th>1</th>\n",
              "      <td>2</td>\n",
              "      <td>1</td>\n",
              "      <td>1</td>\n",
              "      <td>Cumings, Mrs. John Bradley (Florence Briggs Th...</td>\n",
              "      <td>female</td>\n",
              "      <td>38.0</td>\n",
              "      <td>1</td>\n",
              "      <td>0</td>\n",
              "      <td>PC 17599</td>\n",
              "      <td>71.2833</td>\n",
              "      <td>C85</td>\n",
              "      <td>C</td>\n",
              "    </tr>\n",
              "    <tr>\n",
              "      <th>2</th>\n",
              "      <td>3</td>\n",
              "      <td>1</td>\n",
              "      <td>3</td>\n",
              "      <td>Heikkinen, Miss. Laina</td>\n",
              "      <td>female</td>\n",
              "      <td>26.0</td>\n",
              "      <td>0</td>\n",
              "      <td>0</td>\n",
              "      <td>STON/O2. 3101282</td>\n",
              "      <td>7.9250</td>\n",
              "      <td>NaN</td>\n",
              "      <td>S</td>\n",
              "    </tr>\n",
              "    <tr>\n",
              "      <th>3</th>\n",
              "      <td>4</td>\n",
              "      <td>1</td>\n",
              "      <td>1</td>\n",
              "      <td>Futrelle, Mrs. Jacques Heath (Lily May Peel)</td>\n",
              "      <td>female</td>\n",
              "      <td>35.0</td>\n",
              "      <td>1</td>\n",
              "      <td>0</td>\n",
              "      <td>113803</td>\n",
              "      <td>53.1000</td>\n",
              "      <td>C123</td>\n",
              "      <td>S</td>\n",
              "    </tr>\n",
              "    <tr>\n",
              "      <th>4</th>\n",
              "      <td>5</td>\n",
              "      <td>0</td>\n",
              "      <td>3</td>\n",
              "      <td>Allen, Mr. William Henry</td>\n",
              "      <td>male</td>\n",
              "      <td>35.0</td>\n",
              "      <td>0</td>\n",
              "      <td>0</td>\n",
              "      <td>373450</td>\n",
              "      <td>8.0500</td>\n",
              "      <td>NaN</td>\n",
              "      <td>S</td>\n",
              "    </tr>\n",
              "  </tbody>\n",
              "</table>\n",
              "</div>\n",
              "      <button class=\"colab-df-convert\" onclick=\"convertToInteractive('df-b2ff0438-cc72-4988-86b4-844894fc358d')\"\n",
              "              title=\"Convert this dataframe to an interactive table.\"\n",
              "              style=\"display:none;\">\n",
              "        \n",
              "  <svg xmlns=\"http://www.w3.org/2000/svg\" height=\"24px\"viewBox=\"0 0 24 24\"\n",
              "       width=\"24px\">\n",
              "    <path d=\"M0 0h24v24H0V0z\" fill=\"none\"/>\n",
              "    <path d=\"M18.56 5.44l.94 2.06.94-2.06 2.06-.94-2.06-.94-.94-2.06-.94 2.06-2.06.94zm-11 1L8.5 8.5l.94-2.06 2.06-.94-2.06-.94L8.5 2.5l-.94 2.06-2.06.94zm10 10l.94 2.06.94-2.06 2.06-.94-2.06-.94-.94-2.06-.94 2.06-2.06.94z\"/><path d=\"M17.41 7.96l-1.37-1.37c-.4-.4-.92-.59-1.43-.59-.52 0-1.04.2-1.43.59L10.3 9.45l-7.72 7.72c-.78.78-.78 2.05 0 2.83L4 21.41c.39.39.9.59 1.41.59.51 0 1.02-.2 1.41-.59l7.78-7.78 2.81-2.81c.8-.78.8-2.07 0-2.86zM5.41 20L4 18.59l7.72-7.72 1.47 1.35L5.41 20z\"/>\n",
              "  </svg>\n",
              "      </button>\n",
              "      \n",
              "  <style>\n",
              "    .colab-df-container {\n",
              "      display:flex;\n",
              "      flex-wrap:wrap;\n",
              "      gap: 12px;\n",
              "    }\n",
              "\n",
              "    .colab-df-convert {\n",
              "      background-color: #E8F0FE;\n",
              "      border: none;\n",
              "      border-radius: 50%;\n",
              "      cursor: pointer;\n",
              "      display: none;\n",
              "      fill: #1967D2;\n",
              "      height: 32px;\n",
              "      padding: 0 0 0 0;\n",
              "      width: 32px;\n",
              "    }\n",
              "\n",
              "    .colab-df-convert:hover {\n",
              "      background-color: #E2EBFA;\n",
              "      box-shadow: 0px 1px 2px rgba(60, 64, 67, 0.3), 0px 1px 3px 1px rgba(60, 64, 67, 0.15);\n",
              "      fill: #174EA6;\n",
              "    }\n",
              "\n",
              "    [theme=dark] .colab-df-convert {\n",
              "      background-color: #3B4455;\n",
              "      fill: #D2E3FC;\n",
              "    }\n",
              "\n",
              "    [theme=dark] .colab-df-convert:hover {\n",
              "      background-color: #434B5C;\n",
              "      box-shadow: 0px 1px 3px 1px rgba(0, 0, 0, 0.15);\n",
              "      filter: drop-shadow(0px 1px 2px rgba(0, 0, 0, 0.3));\n",
              "      fill: #FFFFFF;\n",
              "    }\n",
              "  </style>\n",
              "\n",
              "      <script>\n",
              "        const buttonEl =\n",
              "          document.querySelector('#df-b2ff0438-cc72-4988-86b4-844894fc358d button.colab-df-convert');\n",
              "        buttonEl.style.display =\n",
              "          google.colab.kernel.accessAllowed ? 'block' : 'none';\n",
              "\n",
              "        async function convertToInteractive(key) {\n",
              "          const element = document.querySelector('#df-b2ff0438-cc72-4988-86b4-844894fc358d');\n",
              "          const dataTable =\n",
              "            await google.colab.kernel.invokeFunction('convertToInteractive',\n",
              "                                                     [key], {});\n",
              "          if (!dataTable) return;\n",
              "\n",
              "          const docLinkHtml = 'Like what you see? Visit the ' +\n",
              "            '<a target=\"_blank\" href=https://colab.research.google.com/notebooks/data_table.ipynb>data table notebook</a>'\n",
              "            + ' to learn more about interactive tables.';\n",
              "          element.innerHTML = '';\n",
              "          dataTable['output_type'] = 'display_data';\n",
              "          await google.colab.output.renderOutput(dataTable, element);\n",
              "          const docLink = document.createElement('div');\n",
              "          docLink.innerHTML = docLinkHtml;\n",
              "          element.appendChild(docLink);\n",
              "        }\n",
              "      </script>\n",
              "    </div>\n",
              "  </div>\n",
              "  "
            ]
          },
          "metadata": {},
          "execution_count": 248
        }
      ]
    },
    {
      "cell_type": "code",
      "source": [
        "df.describe()"
      ],
      "metadata": {
        "colab": {
          "base_uri": "https://localhost:8080/",
          "height": 300
        },
        "id": "B9JX_ybWrY9X",
        "outputId": "b79e584d-5ce8-4285-8885-30015e70f7d8"
      },
      "execution_count": 249,
      "outputs": [
        {
          "output_type": "execute_result",
          "data": {
            "text/plain": [
              "       PassengerId     Survived       Pclass          Age        SibSp  \\\n",
              "count  1309.000000  1309.000000  1309.000000  1046.000000  1309.000000   \n",
              "mean    655.000000     0.385791     2.294882    29.881138     0.498854   \n",
              "std     378.020061     0.486968     0.837836    14.413493     1.041658   \n",
              "min       1.000000     0.000000     1.000000     0.170000     0.000000   \n",
              "25%     328.000000     0.000000     2.000000    21.000000     0.000000   \n",
              "50%     655.000000     0.000000     3.000000    28.000000     0.000000   \n",
              "75%     982.000000     1.000000     3.000000    39.000000     1.000000   \n",
              "max    1309.000000     1.000000     3.000000    80.000000     8.000000   \n",
              "\n",
              "             Parch         Fare  \n",
              "count  1309.000000  1308.000000  \n",
              "mean      0.385027    33.295479  \n",
              "std       0.865560    51.758668  \n",
              "min       0.000000     0.000000  \n",
              "25%       0.000000     7.895800  \n",
              "50%       0.000000    14.454200  \n",
              "75%       0.000000    31.275000  \n",
              "max       9.000000   512.329200  "
            ],
            "text/html": [
              "\n",
              "  <div id=\"df-a5945a61-2c00-4d4a-943e-8dcab40eeee3\">\n",
              "    <div class=\"colab-df-container\">\n",
              "      <div>\n",
              "<style scoped>\n",
              "    .dataframe tbody tr th:only-of-type {\n",
              "        vertical-align: middle;\n",
              "    }\n",
              "\n",
              "    .dataframe tbody tr th {\n",
              "        vertical-align: top;\n",
              "    }\n",
              "\n",
              "    .dataframe thead th {\n",
              "        text-align: right;\n",
              "    }\n",
              "</style>\n",
              "<table border=\"1\" class=\"dataframe\">\n",
              "  <thead>\n",
              "    <tr style=\"text-align: right;\">\n",
              "      <th></th>\n",
              "      <th>PassengerId</th>\n",
              "      <th>Survived</th>\n",
              "      <th>Pclass</th>\n",
              "      <th>Age</th>\n",
              "      <th>SibSp</th>\n",
              "      <th>Parch</th>\n",
              "      <th>Fare</th>\n",
              "    </tr>\n",
              "  </thead>\n",
              "  <tbody>\n",
              "    <tr>\n",
              "      <th>count</th>\n",
              "      <td>1309.000000</td>\n",
              "      <td>1309.000000</td>\n",
              "      <td>1309.000000</td>\n",
              "      <td>1046.000000</td>\n",
              "      <td>1309.000000</td>\n",
              "      <td>1309.000000</td>\n",
              "      <td>1308.000000</td>\n",
              "    </tr>\n",
              "    <tr>\n",
              "      <th>mean</th>\n",
              "      <td>655.000000</td>\n",
              "      <td>0.385791</td>\n",
              "      <td>2.294882</td>\n",
              "      <td>29.881138</td>\n",
              "      <td>0.498854</td>\n",
              "      <td>0.385027</td>\n",
              "      <td>33.295479</td>\n",
              "    </tr>\n",
              "    <tr>\n",
              "      <th>std</th>\n",
              "      <td>378.020061</td>\n",
              "      <td>0.486968</td>\n",
              "      <td>0.837836</td>\n",
              "      <td>14.413493</td>\n",
              "      <td>1.041658</td>\n",
              "      <td>0.865560</td>\n",
              "      <td>51.758668</td>\n",
              "    </tr>\n",
              "    <tr>\n",
              "      <th>min</th>\n",
              "      <td>1.000000</td>\n",
              "      <td>0.000000</td>\n",
              "      <td>1.000000</td>\n",
              "      <td>0.170000</td>\n",
              "      <td>0.000000</td>\n",
              "      <td>0.000000</td>\n",
              "      <td>0.000000</td>\n",
              "    </tr>\n",
              "    <tr>\n",
              "      <th>25%</th>\n",
              "      <td>328.000000</td>\n",
              "      <td>0.000000</td>\n",
              "      <td>2.000000</td>\n",
              "      <td>21.000000</td>\n",
              "      <td>0.000000</td>\n",
              "      <td>0.000000</td>\n",
              "      <td>7.895800</td>\n",
              "    </tr>\n",
              "    <tr>\n",
              "      <th>50%</th>\n",
              "      <td>655.000000</td>\n",
              "      <td>0.000000</td>\n",
              "      <td>3.000000</td>\n",
              "      <td>28.000000</td>\n",
              "      <td>0.000000</td>\n",
              "      <td>0.000000</td>\n",
              "      <td>14.454200</td>\n",
              "    </tr>\n",
              "    <tr>\n",
              "      <th>75%</th>\n",
              "      <td>982.000000</td>\n",
              "      <td>1.000000</td>\n",
              "      <td>3.000000</td>\n",
              "      <td>39.000000</td>\n",
              "      <td>1.000000</td>\n",
              "      <td>0.000000</td>\n",
              "      <td>31.275000</td>\n",
              "    </tr>\n",
              "    <tr>\n",
              "      <th>max</th>\n",
              "      <td>1309.000000</td>\n",
              "      <td>1.000000</td>\n",
              "      <td>3.000000</td>\n",
              "      <td>80.000000</td>\n",
              "      <td>8.000000</td>\n",
              "      <td>9.000000</td>\n",
              "      <td>512.329200</td>\n",
              "    </tr>\n",
              "  </tbody>\n",
              "</table>\n",
              "</div>\n",
              "      <button class=\"colab-df-convert\" onclick=\"convertToInteractive('df-a5945a61-2c00-4d4a-943e-8dcab40eeee3')\"\n",
              "              title=\"Convert this dataframe to an interactive table.\"\n",
              "              style=\"display:none;\">\n",
              "        \n",
              "  <svg xmlns=\"http://www.w3.org/2000/svg\" height=\"24px\"viewBox=\"0 0 24 24\"\n",
              "       width=\"24px\">\n",
              "    <path d=\"M0 0h24v24H0V0z\" fill=\"none\"/>\n",
              "    <path d=\"M18.56 5.44l.94 2.06.94-2.06 2.06-.94-2.06-.94-.94-2.06-.94 2.06-2.06.94zm-11 1L8.5 8.5l.94-2.06 2.06-.94-2.06-.94L8.5 2.5l-.94 2.06-2.06.94zm10 10l.94 2.06.94-2.06 2.06-.94-2.06-.94-.94-2.06-.94 2.06-2.06.94z\"/><path d=\"M17.41 7.96l-1.37-1.37c-.4-.4-.92-.59-1.43-.59-.52 0-1.04.2-1.43.59L10.3 9.45l-7.72 7.72c-.78.78-.78 2.05 0 2.83L4 21.41c.39.39.9.59 1.41.59.51 0 1.02-.2 1.41-.59l7.78-7.78 2.81-2.81c.8-.78.8-2.07 0-2.86zM5.41 20L4 18.59l7.72-7.72 1.47 1.35L5.41 20z\"/>\n",
              "  </svg>\n",
              "      </button>\n",
              "      \n",
              "  <style>\n",
              "    .colab-df-container {\n",
              "      display:flex;\n",
              "      flex-wrap:wrap;\n",
              "      gap: 12px;\n",
              "    }\n",
              "\n",
              "    .colab-df-convert {\n",
              "      background-color: #E8F0FE;\n",
              "      border: none;\n",
              "      border-radius: 50%;\n",
              "      cursor: pointer;\n",
              "      display: none;\n",
              "      fill: #1967D2;\n",
              "      height: 32px;\n",
              "      padding: 0 0 0 0;\n",
              "      width: 32px;\n",
              "    }\n",
              "\n",
              "    .colab-df-convert:hover {\n",
              "      background-color: #E2EBFA;\n",
              "      box-shadow: 0px 1px 2px rgba(60, 64, 67, 0.3), 0px 1px 3px 1px rgba(60, 64, 67, 0.15);\n",
              "      fill: #174EA6;\n",
              "    }\n",
              "\n",
              "    [theme=dark] .colab-df-convert {\n",
              "      background-color: #3B4455;\n",
              "      fill: #D2E3FC;\n",
              "    }\n",
              "\n",
              "    [theme=dark] .colab-df-convert:hover {\n",
              "      background-color: #434B5C;\n",
              "      box-shadow: 0px 1px 3px 1px rgba(0, 0, 0, 0.15);\n",
              "      filter: drop-shadow(0px 1px 2px rgba(0, 0, 0, 0.3));\n",
              "      fill: #FFFFFF;\n",
              "    }\n",
              "  </style>\n",
              "\n",
              "      <script>\n",
              "        const buttonEl =\n",
              "          document.querySelector('#df-a5945a61-2c00-4d4a-943e-8dcab40eeee3 button.colab-df-convert');\n",
              "        buttonEl.style.display =\n",
              "          google.colab.kernel.accessAllowed ? 'block' : 'none';\n",
              "\n",
              "        async function convertToInteractive(key) {\n",
              "          const element = document.querySelector('#df-a5945a61-2c00-4d4a-943e-8dcab40eeee3');\n",
              "          const dataTable =\n",
              "            await google.colab.kernel.invokeFunction('convertToInteractive',\n",
              "                                                     [key], {});\n",
              "          if (!dataTable) return;\n",
              "\n",
              "          const docLinkHtml = 'Like what you see? Visit the ' +\n",
              "            '<a target=\"_blank\" href=https://colab.research.google.com/notebooks/data_table.ipynb>data table notebook</a>'\n",
              "            + ' to learn more about interactive tables.';\n",
              "          element.innerHTML = '';\n",
              "          dataTable['output_type'] = 'display_data';\n",
              "          await google.colab.output.renderOutput(dataTable, element);\n",
              "          const docLink = document.createElement('div');\n",
              "          docLink.innerHTML = docLinkHtml;\n",
              "          element.appendChild(docLink);\n",
              "        }\n",
              "      </script>\n",
              "    </div>\n",
              "  </div>\n",
              "  "
            ]
          },
          "metadata": {},
          "execution_count": 249
        }
      ]
    },
    {
      "cell_type": "code",
      "source": [
        "print('total number of null values : {0}'.format(df.isna().sum().sum()))"
      ],
      "metadata": {
        "colab": {
          "base_uri": "https://localhost:8080/"
        },
        "id": "DU9x9wkurZA_",
        "outputId": "59636fe7-2dac-4ec6-b615-022d8e92f500"
      },
      "execution_count": 250,
      "outputs": [
        {
          "output_type": "stream",
          "name": "stdout",
          "text": [
            "total number of null values : 1280\n"
          ]
        }
      ]
    },
    {
      "cell_type": "code",
      "source": [
        "df1 = df.drop([\"Name\",\"Cabin\",\"Ticket\"],axis = 1)\n",
        "print(df1.shape)\n",
        "df1.head(3)"
      ],
      "metadata": {
        "colab": {
          "base_uri": "https://localhost:8080/",
          "height": 161
        },
        "id": "uYcrCvj6_rfg",
        "outputId": "adb6be28-c830-455b-fc91-682c0ffd8718"
      },
      "execution_count": 251,
      "outputs": [
        {
          "output_type": "stream",
          "name": "stdout",
          "text": [
            "(1309, 9)\n"
          ]
        },
        {
          "output_type": "execute_result",
          "data": {
            "text/plain": [
              "   PassengerId  Survived  Pclass     Sex   Age  SibSp  Parch     Fare Embarked\n",
              "0            1         0       3    male  22.0      1      0   7.2500        S\n",
              "1            2         1       1  female  38.0      1      0  71.2833        C\n",
              "2            3         1       3  female  26.0      0      0   7.9250        S"
            ],
            "text/html": [
              "\n",
              "  <div id=\"df-2137d6fd-0609-465b-bbc7-f894791178f8\">\n",
              "    <div class=\"colab-df-container\">\n",
              "      <div>\n",
              "<style scoped>\n",
              "    .dataframe tbody tr th:only-of-type {\n",
              "        vertical-align: middle;\n",
              "    }\n",
              "\n",
              "    .dataframe tbody tr th {\n",
              "        vertical-align: top;\n",
              "    }\n",
              "\n",
              "    .dataframe thead th {\n",
              "        text-align: right;\n",
              "    }\n",
              "</style>\n",
              "<table border=\"1\" class=\"dataframe\">\n",
              "  <thead>\n",
              "    <tr style=\"text-align: right;\">\n",
              "      <th></th>\n",
              "      <th>PassengerId</th>\n",
              "      <th>Survived</th>\n",
              "      <th>Pclass</th>\n",
              "      <th>Sex</th>\n",
              "      <th>Age</th>\n",
              "      <th>SibSp</th>\n",
              "      <th>Parch</th>\n",
              "      <th>Fare</th>\n",
              "      <th>Embarked</th>\n",
              "    </tr>\n",
              "  </thead>\n",
              "  <tbody>\n",
              "    <tr>\n",
              "      <th>0</th>\n",
              "      <td>1</td>\n",
              "      <td>0</td>\n",
              "      <td>3</td>\n",
              "      <td>male</td>\n",
              "      <td>22.0</td>\n",
              "      <td>1</td>\n",
              "      <td>0</td>\n",
              "      <td>7.2500</td>\n",
              "      <td>S</td>\n",
              "    </tr>\n",
              "    <tr>\n",
              "      <th>1</th>\n",
              "      <td>2</td>\n",
              "      <td>1</td>\n",
              "      <td>1</td>\n",
              "      <td>female</td>\n",
              "      <td>38.0</td>\n",
              "      <td>1</td>\n",
              "      <td>0</td>\n",
              "      <td>71.2833</td>\n",
              "      <td>C</td>\n",
              "    </tr>\n",
              "    <tr>\n",
              "      <th>2</th>\n",
              "      <td>3</td>\n",
              "      <td>1</td>\n",
              "      <td>3</td>\n",
              "      <td>female</td>\n",
              "      <td>26.0</td>\n",
              "      <td>0</td>\n",
              "      <td>0</td>\n",
              "      <td>7.9250</td>\n",
              "      <td>S</td>\n",
              "    </tr>\n",
              "  </tbody>\n",
              "</table>\n",
              "</div>\n",
              "      <button class=\"colab-df-convert\" onclick=\"convertToInteractive('df-2137d6fd-0609-465b-bbc7-f894791178f8')\"\n",
              "              title=\"Convert this dataframe to an interactive table.\"\n",
              "              style=\"display:none;\">\n",
              "        \n",
              "  <svg xmlns=\"http://www.w3.org/2000/svg\" height=\"24px\"viewBox=\"0 0 24 24\"\n",
              "       width=\"24px\">\n",
              "    <path d=\"M0 0h24v24H0V0z\" fill=\"none\"/>\n",
              "    <path d=\"M18.56 5.44l.94 2.06.94-2.06 2.06-.94-2.06-.94-.94-2.06-.94 2.06-2.06.94zm-11 1L8.5 8.5l.94-2.06 2.06-.94-2.06-.94L8.5 2.5l-.94 2.06-2.06.94zm10 10l.94 2.06.94-2.06 2.06-.94-2.06-.94-.94-2.06-.94 2.06-2.06.94z\"/><path d=\"M17.41 7.96l-1.37-1.37c-.4-.4-.92-.59-1.43-.59-.52 0-1.04.2-1.43.59L10.3 9.45l-7.72 7.72c-.78.78-.78 2.05 0 2.83L4 21.41c.39.39.9.59 1.41.59.51 0 1.02-.2 1.41-.59l7.78-7.78 2.81-2.81c.8-.78.8-2.07 0-2.86zM5.41 20L4 18.59l7.72-7.72 1.47 1.35L5.41 20z\"/>\n",
              "  </svg>\n",
              "      </button>\n",
              "      \n",
              "  <style>\n",
              "    .colab-df-container {\n",
              "      display:flex;\n",
              "      flex-wrap:wrap;\n",
              "      gap: 12px;\n",
              "    }\n",
              "\n",
              "    .colab-df-convert {\n",
              "      background-color: #E8F0FE;\n",
              "      border: none;\n",
              "      border-radius: 50%;\n",
              "      cursor: pointer;\n",
              "      display: none;\n",
              "      fill: #1967D2;\n",
              "      height: 32px;\n",
              "      padding: 0 0 0 0;\n",
              "      width: 32px;\n",
              "    }\n",
              "\n",
              "    .colab-df-convert:hover {\n",
              "      background-color: #E2EBFA;\n",
              "      box-shadow: 0px 1px 2px rgba(60, 64, 67, 0.3), 0px 1px 3px 1px rgba(60, 64, 67, 0.15);\n",
              "      fill: #174EA6;\n",
              "    }\n",
              "\n",
              "    [theme=dark] .colab-df-convert {\n",
              "      background-color: #3B4455;\n",
              "      fill: #D2E3FC;\n",
              "    }\n",
              "\n",
              "    [theme=dark] .colab-df-convert:hover {\n",
              "      background-color: #434B5C;\n",
              "      box-shadow: 0px 1px 3px 1px rgba(0, 0, 0, 0.15);\n",
              "      filter: drop-shadow(0px 1px 2px rgba(0, 0, 0, 0.3));\n",
              "      fill: #FFFFFF;\n",
              "    }\n",
              "  </style>\n",
              "\n",
              "      <script>\n",
              "        const buttonEl =\n",
              "          document.querySelector('#df-2137d6fd-0609-465b-bbc7-f894791178f8 button.colab-df-convert');\n",
              "        buttonEl.style.display =\n",
              "          google.colab.kernel.accessAllowed ? 'block' : 'none';\n",
              "\n",
              "        async function convertToInteractive(key) {\n",
              "          const element = document.querySelector('#df-2137d6fd-0609-465b-bbc7-f894791178f8');\n",
              "          const dataTable =\n",
              "            await google.colab.kernel.invokeFunction('convertToInteractive',\n",
              "                                                     [key], {});\n",
              "          if (!dataTable) return;\n",
              "\n",
              "          const docLinkHtml = 'Like what you see? Visit the ' +\n",
              "            '<a target=\"_blank\" href=https://colab.research.google.com/notebooks/data_table.ipynb>data table notebook</a>'\n",
              "            + ' to learn more about interactive tables.';\n",
              "          element.innerHTML = '';\n",
              "          dataTable['output_type'] = 'display_data';\n",
              "          await google.colab.output.renderOutput(dataTable, element);\n",
              "          const docLink = document.createElement('div');\n",
              "          docLink.innerHTML = docLinkHtml;\n",
              "          element.appendChild(docLink);\n",
              "        }\n",
              "      </script>\n",
              "    </div>\n",
              "  </div>\n",
              "  "
            ]
          },
          "metadata": {},
          "execution_count": 251
        }
      ]
    },
    {
      "cell_type": "code",
      "source": [
        "''' Deal with missing values. First, calculate the percentage of\n",
        "missing values for every column, and plot them as a bar chart'''\n",
        "\n",
        "null_vals = df1.isnull().sum()/len(df1)*100\n",
        "null_vals = pd.DataFrame(null_vals)\n",
        "null_vals.reset_index(inplace = True)\n",
        "null_vals.columns = [\"Feature\",\"Percent missing\"]\n",
        "plt.figure(figsize = (8,6))\n",
        "plt.xticks(rotation=45)\n",
        "sns.barplot(x = \"Feature\",y =\"Percent missing\",data = null_vals)"
      ],
      "metadata": {
        "colab": {
          "base_uri": "https://localhost:8080/",
          "height": 614
        },
        "id": "qycqAwcB_rwY",
        "outputId": "763f1204-9c56-47fa-c2c4-97f2cbf6af42"
      },
      "execution_count": 252,
      "outputs": [
        {
          "output_type": "execute_result",
          "data": {
            "text/plain": [
              "<Axes: xlabel='Feature', ylabel='Percent missing'>"
            ]
          },
          "metadata": {},
          "execution_count": 252
        },
        {
          "output_type": "display_data",
          "data": {
            "text/plain": [
              "<Figure size 800x600 with 1 Axes>"
            ],
            "image/png": "[encoded data removed]"
          },
          "metadata": {}
        }
      ]
    },
    {
      "cell_type": "code",
      "source": [
        "df1.shape"
      ],
      "metadata": {
        "colab": {
          "base_uri": "https://localhost:8080/"
        },
        "id": "FdcLADH4QVA9",
        "outputId": "8c3de5b4-cac4-44c4-f345-647d663fbe85"
      },
      "execution_count": 253,
      "outputs": [
        {
          "output_type": "execute_result",
          "data": {
            "text/plain": [
              "(1309, 9)"
            ]
          },
          "metadata": {},
          "execution_count": 253
        }
      ]
    },
    {
      "cell_type": "code",
      "source": [
        "df1[\"Embarked\"].value_counts()"
      ],
      "metadata": {
        "colab": {
          "base_uri": "https://localhost:8080/"
        },
        "id": "8f2MWlqeQVH8",
        "outputId": "85720900-8f30-42fa-a736-8126f52ec96c"
      },
      "execution_count": 254,
      "outputs": [
        {
          "output_type": "execute_result",
          "data": {
            "text/plain": [
              "S    914\n",
              "C    270\n",
              "Q    123\n",
              "Name: Embarked, dtype: int64"
            ]
          },
          "metadata": {},
          "execution_count": 254
        }
      ]
    },
    {
      "cell_type": "code",
      "source": [
        "df1[\"Embarked\"] = df1[\"Embarked\"].fillna('S')"
      ],
      "metadata": {
        "id": "MlIERskmQVMm"
      },
      "execution_count": 188,
      "outputs": []
    },
    {
      "cell_type": "code",
      "source": [
        "df1.count()"
      ],
      "metadata": {
        "colab": {
          "base_uri": "https://localhost:8080/"
        },
        "id": "YPrFFqWpQVPb",
        "outputId": "7368d2e0-3352-4b47-de9e-e5969cf805e6"
      },
      "execution_count": 255,
      "outputs": [
        {
          "output_type": "execute_result",
          "data": {
            "text/plain": [
              "PassengerId    1309\n",
              "Survived       1309\n",
              "Pclass         1309\n",
              "Sex            1309\n",
              "Age            1046\n",
              "SibSp          1309\n",
              "Parch          1309\n",
              "Fare           1308\n",
              "Embarked       1307\n",
              "dtype: int64"
            ]
          },
          "metadata": {},
          "execution_count": 255
        }
      ]
    },
    {
      "cell_type": "code",
      "source": [
        "df1[\"Age\"].mean()"
      ],
      "metadata": {
        "colab": {
          "base_uri": "https://localhost:8080/"
        },
        "id": "yEypODBDQVYU",
        "outputId": "71cc8505-0fc8-469f-bfd1-ab34bbe424bb"
      },
      "execution_count": 256,
      "outputs": [
        {
          "output_type": "execute_result",
          "data": {
            "text/plain": [
              "29.881137667304014"
            ]
          },
          "metadata": {},
          "execution_count": 256
        }
      ]
    },
    {
      "cell_type": "code",
      "source": [
        "df1[\"Age\"] = df1[\"Age\"].fillna(df1[\"Age\"].mean())"
      ],
      "metadata": {
        "id": "sR0efN9CBagY"
      },
      "execution_count": 257,
      "outputs": []
    },
    {
      "cell_type": "code",
      "source": [
        "df1.count()"
      ],
      "metadata": {
        "colab": {
          "base_uri": "https://localhost:8080/"
        },
        "id": "Ozw2gUF2Banf",
        "outputId": "f3351fa3-70f5-4851-ff68-1eec31b820b3"
      },
      "execution_count": 258,
      "outputs": [
        {
          "output_type": "execute_result",
          "data": {
            "text/plain": [
              "PassengerId    1309\n",
              "Survived       1309\n",
              "Pclass         1309\n",
              "Sex            1309\n",
              "Age            1309\n",
              "SibSp          1309\n",
              "Parch          1309\n",
              "Fare           1308\n",
              "Embarked       1307\n",
              "dtype: int64"
            ]
          },
          "metadata": {},
          "execution_count": 258
        }
      ]
    },
    {
      "cell_type": "code",
      "source": [
        "df1[\"Fare\"] = df1[\"Fare\"].fillna(df1[\"Fare\"].mean())"
      ],
      "metadata": {
        "id": "DdJ2QXqsBarR"
      },
      "execution_count": 259,
      "outputs": []
    },
    {
      "cell_type": "code",
      "source": [
        "df1.count()"
      ],
      "metadata": {
        "colab": {
          "base_uri": "https://localhost:8080/"
        },
        "id": "JdTI7YudR0Od",
        "outputId": "505a0add-bec8-4ae4-c87a-a522330f9ab4"
      },
      "execution_count": 260,
      "outputs": [
        {
          "output_type": "execute_result",
          "data": {
            "text/plain": [
              "PassengerId    1309\n",
              "Survived       1309\n",
              "Pclass         1309\n",
              "Sex            1309\n",
              "Age            1309\n",
              "SibSp          1309\n",
              "Parch          1309\n",
              "Fare           1309\n",
              "Embarked       1307\n",
              "dtype: int64"
            ]
          },
          "metadata": {},
          "execution_count": 260
        }
      ]
    },
    {
      "cell_type": "code",
      "source": [
        "df1.head(3)"
      ],
      "metadata": {
        "colab": {
          "base_uri": "https://localhost:8080/",
          "height": 143
        },
        "id": "yg6kbcbBR0Sc",
        "outputId": "072172ae-1500-487f-be72-2cb6c902c77b"
      },
      "execution_count": 261,
      "outputs": [
        {
          "output_type": "execute_result",
          "data": {
            "text/plain": [
              "   PassengerId  Survived  Pclass     Sex   Age  SibSp  Parch     Fare Embarked\n",
              "0            1         0       3    male  22.0      1      0   7.2500        S\n",
              "1            2         1       1  female  38.0      1      0  71.2833        C\n",
              "2            3         1       3  female  26.0      0      0   7.9250        S"
            ],
            "text/html": [
              "\n",
              "  <div id=\"df-995d988b-d07d-4592-9bb9-0ad3c4c00930\">\n",
              "    <div class=\"colab-df-container\">\n",
              "      <div>\n",
              "<style scoped>\n",
              "    .dataframe tbody tr th:only-of-type {\n",
              "        vertical-align: middle;\n",
              "    }\n",
              "\n",
              "    .dataframe tbody tr th {\n",
              "        vertical-align: top;\n",
              "    }\n",
              "\n",
              "    .dataframe thead th {\n",
              "        text-align: right;\n",
              "    }\n",
              "</style>\n",
              "<table border=\"1\" class=\"dataframe\">\n",
              "  <thead>\n",
              "    <tr style=\"text-align: right;\">\n",
              "      <th></th>\n",
              "      <th>PassengerId</th>\n",
              "      <th>Survived</th>\n",
              "      <th>Pclass</th>\n",
              "      <th>Sex</th>\n",
              "      <th>Age</th>\n",
              "      <th>SibSp</th>\n",
              "      <th>Parch</th>\n",
              "      <th>Fare</th>\n",
              "      <th>Embarked</th>\n",
              "    </tr>\n",
              "  </thead>\n",
              "  <tbody>\n",
              "    <tr>\n",
              "      <th>0</th>\n",
              "      <td>1</td>\n",
              "      <td>0</td>\n",
              "      <td>3</td>\n",
              "      <td>male</td>\n",
              "      <td>22.0</td>\n",
              "      <td>1</td>\n",
              "      <td>0</td>\n",
              "      <td>7.2500</td>\n",
              "      <td>S</td>\n",
              "    </tr>\n",
              "    <tr>\n",
              "      <th>1</th>\n",
              "      <td>2</td>\n",
              "      <td>1</td>\n",
              "      <td>1</td>\n",
              "      <td>female</td>\n",
              "      <td>38.0</td>\n",
              "      <td>1</td>\n",
              "      <td>0</td>\n",
              "      <td>71.2833</td>\n",
              "      <td>C</td>\n",
              "    </tr>\n",
              "    <tr>\n",
              "      <th>2</th>\n",
              "      <td>3</td>\n",
              "      <td>1</td>\n",
              "      <td>3</td>\n",
              "      <td>female</td>\n",
              "      <td>26.0</td>\n",
              "      <td>0</td>\n",
              "      <td>0</td>\n",
              "      <td>7.9250</td>\n",
              "      <td>S</td>\n",
              "    </tr>\n",
              "  </tbody>\n",
              "</table>\n",
              "</div>\n",
              "      <button class=\"colab-df-convert\" onclick=\"convertToInteractive('df-995d988b-d07d-4592-9bb9-0ad3c4c00930')\"\n",
              "              title=\"Convert this dataframe to an interactive table.\"\n",
              "              style=\"display:none;\">\n",
              "        \n",
              "  <svg xmlns=\"http://www.w3.org/2000/svg\" height=\"24px\"viewBox=\"0 0 24 24\"\n",
              "       width=\"24px\">\n",
              "    <path d=\"M0 0h24v24H0V0z\" fill=\"none\"/>\n",
              "    <path d=\"M18.56 5.44l.94 2.06.94-2.06 2.06-.94-2.06-.94-.94-2.06-.94 2.06-2.06.94zm-11 1L8.5 8.5l.94-2.06 2.06-.94-2.06-.94L8.5 2.5l-.94 2.06-2.06.94zm10 10l.94 2.06.94-2.06 2.06-.94-2.06-.94-.94-2.06-.94 2.06-2.06.94z\"/><path d=\"M17.41 7.96l-1.37-1.37c-.4-.4-.92-.59-1.43-.59-.52 0-1.04.2-1.43.59L10.3 9.45l-7.72 7.72c-.78.78-.78 2.05 0 2.83L4 21.41c.39.39.9.59 1.41.59.51 0 1.02-.2 1.41-.59l7.78-7.78 2.81-2.81c.8-.78.8-2.07 0-2.86zM5.41 20L4 18.59l7.72-7.72 1.47 1.35L5.41 20z\"/>\n",
              "  </svg>\n",
              "      </button>\n",
              "      \n",
              "  <style>\n",
              "    .colab-df-container {\n",
              "      display:flex;\n",
              "      flex-wrap:wrap;\n",
              "      gap: 12px;\n",
              "    }\n",
              "\n",
              "    .colab-df-convert {\n",
              "      background-color: #E8F0FE;\n",
              "      border: none;\n",
              "      border-radius: 50%;\n",
              "      cursor: pointer;\n",
              "      display: none;\n",
              "      fill: #1967D2;\n",
              "      height: 32px;\n",
              "      padding: 0 0 0 0;\n",
              "      width: 32px;\n",
              "    }\n",
              "\n",
              "    .colab-df-convert:hover {\n",
              "      background-color: #E2EBFA;\n",
              "      box-shadow: 0px 1px 2px rgba(60, 64, 67, 0.3), 0px 1px 3px 1px rgba(60, 64, 67, 0.15);\n",
              "      fill: #174EA6;\n",
              "    }\n",
              "\n",
              "    [theme=dark] .colab-df-convert {\n",
              "      background-color: #3B4455;\n",
              "      fill: #D2E3FC;\n",
              "    }\n",
              "\n",
              "    [theme=dark] .colab-df-convert:hover {\n",
              "      background-color: #434B5C;\n",
              "      box-shadow: 0px 1px 3px 1px rgba(0, 0, 0, 0.15);\n",
              "      filter: drop-shadow(0px 1px 2px rgba(0, 0, 0, 0.3));\n",
              "      fill: #FFFFFF;\n",
              "    }\n",
              "  </style>\n",
              "\n",
              "      <script>\n",
              "        const buttonEl =\n",
              "          document.querySelector('#df-995d988b-d07d-4592-9bb9-0ad3c4c00930 button.colab-df-convert');\n",
              "        buttonEl.style.display =\n",
              "          google.colab.kernel.accessAllowed ? 'block' : 'none';\n",
              "\n",
              "        async function convertToInteractive(key) {\n",
              "          const element = document.querySelector('#df-995d988b-d07d-4592-9bb9-0ad3c4c00930');\n",
              "          const dataTable =\n",
              "            await google.colab.kernel.invokeFunction('convertToInteractive',\n",
              "                                                     [key], {});\n",
              "          if (!dataTable) return;\n",
              "\n",
              "          const docLinkHtml = 'Like what you see? Visit the ' +\n",
              "            '<a target=\"_blank\" href=https://colab.research.google.com/notebooks/data_table.ipynb>data table notebook</a>'\n",
              "            + ' to learn more about interactive tables.';\n",
              "          element.innerHTML = '';\n",
              "          dataTable['output_type'] = 'display_data';\n",
              "          await google.colab.output.renderOutput(dataTable, element);\n",
              "          const docLink = document.createElement('div');\n",
              "          docLink.innerHTML = docLinkHtml;\n",
              "          element.appendChild(docLink);\n",
              "        }\n",
              "      </script>\n",
              "    </div>\n",
              "  </div>\n",
              "  "
            ]
          },
          "metadata": {},
          "execution_count": 261
        }
      ]
    },
    {
      "cell_type": "code",
      "source": [
        "df1[\"Sex\"] = df1[\"Sex\"].map({\"male\":0,\"female\":1})"
      ],
      "metadata": {
        "id": "SHRcrW0UR0WF"
      },
      "execution_count": 262,
      "outputs": []
    },
    {
      "cell_type": "code",
      "source": [
        "df1 = pd.get_dummies(df1, columns = [\"Embarked\"])"
      ],
      "metadata": {
        "id": "qQ6dU5dvR0aG"
      },
      "execution_count": 263,
      "outputs": []
    },
    {
      "cell_type": "code",
      "source": [
        "df1.head()"
      ],
      "metadata": {
        "colab": {
          "base_uri": "https://localhost:8080/",
          "height": 206
        },
        "id": "Zeu3CWd1R0dE",
        "outputId": "272edacc-8459-452d-de11-ae09a2c5ec46"
      },
      "execution_count": 264,
      "outputs": [
        {
          "output_type": "execute_result",
          "data": {
            "text/plain": [
              "   PassengerId  Survived  Pclass  Sex   Age  SibSp  Parch     Fare  \\\n",
              "0            1         0       3    0  22.0      1      0   7.2500   \n",
              "1            2         1       1    1  38.0      1      0  71.2833   \n",
              "2            3         1       3    1  26.0      0      0   7.9250   \n",
              "3            4         1       1    1  35.0      1      0  53.1000   \n",
              "4            5         0       3    0  35.0      0      0   8.0500   \n",
              "\n",
              "   Embarked_C  Embarked_Q  Embarked_S  \n",
              "0           0           0           1  \n",
              "1           1           0           0  \n",
              "2           0           0           1  \n",
              "3           0           0           1  \n",
              "4           0           0           1  "
            ],
            "text/html": [
              "\n",
              "  <div id=\"df-800a02fb-01f4-4fc1-ab4c-69c3b0a0899a\">\n",
              "    <div class=\"colab-df-container\">\n",
              "      <div>\n",
              "<style scoped>\n",
              "    .dataframe tbody tr th:only-of-type {\n",
              "        vertical-align: middle;\n",
              "    }\n",
              "\n",
              "    .dataframe tbody tr th {\n",
              "        vertical-align: top;\n",
              "    }\n",
              "\n",
              "    .dataframe thead th {\n",
              "        text-align: right;\n",
              "    }\n",
              "</style>\n",
              "<table border=\"1\" class=\"dataframe\">\n",
              "  <thead>\n",
              "    <tr style=\"text-align: right;\">\n",
              "      <th></th>\n",
              "      <th>PassengerId</th>\n",
              "      <th>Survived</th>\n",
              "      <th>Pclass</th>\n",
              "      <th>Sex</th>\n",
              "      <th>Age</th>\n",
              "      <th>SibSp</th>\n",
              "      <th>Parch</th>\n",
              "      <th>Fare</th>\n",
              "      <th>Embarked_C</th>\n",
              "      <th>Embarked_Q</th>\n",
              "      <th>Embarked_S</th>\n",
              "    </tr>\n",
              "  </thead>\n",
              "  <tbody>\n",
              "    <tr>\n",
              "      <th>0</th>\n",
              "      <td>1</td>\n",
              "      <td>0</td>\n",
              "      <td>3</td>\n",
              "      <td>0</td>\n",
              "      <td>22.0</td>\n",
              "      <td>1</td>\n",
              "      <td>0</td>\n",
              "      <td>7.2500</td>\n",
              "      <td>0</td>\n",
              "      <td>0</td>\n",
              "      <td>1</td>\n",
              "    </tr>\n",
              "    <tr>\n",
              "      <th>1</th>\n",
              "      <td>2</td>\n",
              "      <td>1</td>\n",
              "      <td>1</td>\n",
              "      <td>1</td>\n",
              "      <td>38.0</td>\n",
              "      <td>1</td>\n",
              "      <td>0</td>\n",
              "      <td>71.2833</td>\n",
              "      <td>1</td>\n",
              "      <td>0</td>\n",
              "      <td>0</td>\n",
              "    </tr>\n",
              "    <tr>\n",
              "      <th>2</th>\n",
              "      <td>3</td>\n",
              "      <td>1</td>\n",
              "      <td>3</td>\n",
              "      <td>1</td>\n",
              "      <td>26.0</td>\n",
              "      <td>0</td>\n",
              "      <td>0</td>\n",
              "      <td>7.9250</td>\n",
              "      <td>0</td>\n",
              "      <td>0</td>\n",
              "      <td>1</td>\n",
              "    </tr>\n",
              "    <tr>\n",
              "      <th>3</th>\n",
              "      <td>4</td>\n",
              "      <td>1</td>\n",
              "      <td>1</td>\n",
              "      <td>1</td>\n",
              "      <td>35.0</td>\n",
              "      <td>1</td>\n",
              "      <td>0</td>\n",
              "      <td>53.1000</td>\n",
              "      <td>0</td>\n",
              "      <td>0</td>\n",
              "      <td>1</td>\n",
              "    </tr>\n",
              "    <tr>\n",
              "      <th>4</th>\n",
              "      <td>5</td>\n",
              "      <td>0</td>\n",
              "      <td>3</td>\n",
              "      <td>0</td>\n",
              "      <td>35.0</td>\n",
              "      <td>0</td>\n",
              "      <td>0</td>\n",
              "      <td>8.0500</td>\n",
              "      <td>0</td>\n",
              "      <td>0</td>\n",
              "      <td>1</td>\n",
              "    </tr>\n",
              "  </tbody>\n",
              "</table>\n",
              "</div>\n",
              "      <button class=\"colab-df-convert\" onclick=\"convertToInteractive('df-800a02fb-01f4-4fc1-ab4c-69c3b0a0899a')\"\n",
              "              title=\"Convert this dataframe to an interactive table.\"\n",
              "              style=\"display:none;\">\n",
              "        \n",
              "  <svg xmlns=\"http://www.w3.org/2000/svg\" height=\"24px\"viewBox=\"0 0 24 24\"\n",
              "       width=\"24px\">\n",
              "    <path d=\"M0 0h24v24H0V0z\" fill=\"none\"/>\n",
              "    <path d=\"M18.56 5.44l.94 2.06.94-2.06 2.06-.94-2.06-.94-.94-2.06-.94 2.06-2.06.94zm-11 1L8.5 8.5l.94-2.06 2.06-.94-2.06-.94L8.5 2.5l-.94 2.06-2.06.94zm10 10l.94 2.06.94-2.06 2.06-.94-2.06-.94-.94-2.06-.94 2.06-2.06.94z\"/><path d=\"M17.41 7.96l-1.37-1.37c-.4-.4-.92-.59-1.43-.59-.52 0-1.04.2-1.43.59L10.3 9.45l-7.72 7.72c-.78.78-.78 2.05 0 2.83L4 21.41c.39.39.9.59 1.41.59.51 0 1.02-.2 1.41-.59l7.78-7.78 2.81-2.81c.8-.78.8-2.07 0-2.86zM5.41 20L4 18.59l7.72-7.72 1.47 1.35L5.41 20z\"/>\n",
              "  </svg>\n",
              "      </button>\n",
              "      \n",
              "  <style>\n",
              "    .colab-df-container {\n",
              "      display:flex;\n",
              "      flex-wrap:wrap;\n",
              "      gap: 12px;\n",
              "    }\n",
              "\n",
              "    .colab-df-convert {\n",
              "      background-color: #E8F0FE;\n",
              "      border: none;\n",
              "      border-radius: 50%;\n",
              "      cursor: pointer;\n",
              "      display: none;\n",
              "      fill: #1967D2;\n",
              "      height: 32px;\n",
              "      padding: 0 0 0 0;\n",
              "      width: 32px;\n",
              "    }\n",
              "\n",
              "    .colab-df-convert:hover {\n",
              "      background-color: #E2EBFA;\n",
              "      box-shadow: 0px 1px 2px rgba(60, 64, 67, 0.3), 0px 1px 3px 1px rgba(60, 64, 67, 0.15);\n",
              "      fill: #174EA6;\n",
              "    }\n",
              "\n",
              "    [theme=dark] .colab-df-convert {\n",
              "      background-color: #3B4455;\n",
              "      fill: #D2E3FC;\n",
              "    }\n",
              "\n",
              "    [theme=dark] .colab-df-convert:hover {\n",
              "      background-color: #434B5C;\n",
              "      box-shadow: 0px 1px 3px 1px rgba(0, 0, 0, 0.15);\n",
              "      filter: drop-shadow(0px 1px 2px rgba(0, 0, 0, 0.3));\n",
              "      fill: #FFFFFF;\n",
              "    }\n",
              "  </style>\n",
              "\n",
              "      <script>\n",
              "        const buttonEl =\n",
              "          document.querySelector('#df-800a02fb-01f4-4fc1-ab4c-69c3b0a0899a button.colab-df-convert');\n",
              "        buttonEl.style.display =\n",
              "          google.colab.kernel.accessAllowed ? 'block' : 'none';\n",
              "\n",
              "        async function convertToInteractive(key) {\n",
              "          const element = document.querySelector('#df-800a02fb-01f4-4fc1-ab4c-69c3b0a0899a');\n",
              "          const dataTable =\n",
              "            await google.colab.kernel.invokeFunction('convertToInteractive',\n",
              "                                                     [key], {});\n",
              "          if (!dataTable) return;\n",
              "\n",
              "          const docLinkHtml = 'Like what you see? Visit the ' +\n",
              "            '<a target=\"_blank\" href=https://colab.research.google.com/notebooks/data_table.ipynb>data table notebook</a>'\n",
              "            + ' to learn more about interactive tables.';\n",
              "          element.innerHTML = '';\n",
              "          dataTable['output_type'] = 'display_data';\n",
              "          await google.colab.output.renderOutput(dataTable, element);\n",
              "          const docLink = document.createElement('div');\n",
              "          docLink.innerHTML = docLinkHtml;\n",
              "          element.appendChild(docLink);\n",
              "        }\n",
              "      </script>\n",
              "    </div>\n",
              "  </div>\n",
              "  "
            ]
          },
          "metadata": {},
          "execution_count": 264
        }
      ]
    },
    {
      "cell_type": "code",
      "source": [
        "df1.shape"
      ],
      "metadata": {
        "colab": {
          "base_uri": "https://localhost:8080/"
        },
        "id": "3fR9Iz5OTAYm",
        "outputId": "b61a8b72-4bb5-4ff3-a61e-f336832a939c"
      },
      "execution_count": 265,
      "outputs": [
        {
          "output_type": "execute_result",
          "data": {
            "text/plain": [
              "(1309, 11)"
            ]
          },
          "metadata": {},
          "execution_count": 265
        }
      ]
    },
    {
      "cell_type": "code",
      "source": [
        "import matplotlib.pyplot as plt # plotting\n",
        "import seaborn as sns\n",
        "import numpy as np # linear algebra\n",
        "\n",
        "corr = df1.corr()\n",
        "corr.shape"
      ],
      "metadata": {
        "colab": {
          "base_uri": "https://localhost:8080/"
        },
        "id": "MQWTgL_yTAjj",
        "outputId": "7c372bc5-9193-4c5d-f611-40c1cb0bc0d9"
      },
      "execution_count": 266,
      "outputs": [
        {
          "output_type": "execute_result",
          "data": {
            "text/plain": [
              "(11, 11)"
            ]
          },
          "metadata": {},
          "execution_count": 266
        }
      ]
    },
    {
      "cell_type": "code",
      "source": [
        "# Plotting the heatmap of correlation between features\n",
        "plt.figure(figsize=(15,20))\n",
        "sns.heatmap(corr, cbar=True, square= True, fmt='.1f', annot=True, annot_kws={'size':15}, cmap='RdBu')"
      ],
      "metadata": {
        "colab": {
          "base_uri": "https://localhost:8080/",
          "height": 1000
        },
        "id": "-IRHS8AkTAm2",
        "outputId": "e75ce746-3caf-4a3a-c3ba-381791e449e5"
      },
      "execution_count": 267,
      "outputs": [
        {
          "output_type": "execute_result",
          "data": {
            "text/plain": [
              "<Axes: >"
            ]
          },
          "metadata": {},
          "execution_count": 267
        },
        {
          "output_type": "display_data",
          "data": {
            "text/plain": [
              "<Figure size 1500x2000 with 2 Axes>"
            ],
            "image/png": "[encoded data removed]"
          },
          "metadata": {}
        }
      ]
    },
    {
      "cell_type": "code",
      "source": [
        "df1.info()"
      ],
      "metadata": {
        "colab": {
          "base_uri": "https://localhost:8080/"
        },
        "id": "S0yieZ6WA5RI",
        "outputId": "b9b4449c-a1a1-4513-c98c-9de25516e36c"
      },
      "execution_count": 268,
      "outputs": [
        {
          "output_type": "stream",
          "name": "stdout",
          "text": [
            "<class 'pandas.core.frame.DataFrame'>\n",
            "RangeIndex: 1309 entries, 0 to 1308\n",
            "Data columns (total 11 columns):\n",
            " #   Column       Non-Null Count  Dtype  \n",
            "---  ------       --------------  -----  \n",
            " 0   PassengerId  1309 non-null   int64  \n",
            " 1   Survived     1309 non-null   int64  \n",
            " 2   Pclass       1309 non-null   int64  \n",
            " 3   Sex          1309 non-null   int64  \n",
            " 4   Age          1309 non-null   float64\n",
            " 5   SibSp        1309 non-null   int64  \n",
            " 6   Parch        1309 non-null   int64  \n",
            " 7   Fare         1309 non-null   float64\n",
            " 8   Embarked_C   1309 non-null   uint8  \n",
            " 9   Embarked_Q   1309 non-null   uint8  \n",
            " 10  Embarked_S   1309 non-null   uint8  \n",
            "dtypes: float64(2), int64(6), uint8(3)\n",
            "memory usage: 85.8 KB\n"
          ]
        }
      ]
    },
    {
      "cell_type": "code",
      "source": [
        "y = df1[\"Survived\"]\n",
        "X = df1.drop([\"Survived\"], axis=1)\n",
        "X_train,X_test,y_train,y_test=train_test_split(X,y,test_size=0.2)"
      ],
      "metadata": {
        "id": "9IHnvvMYTAcW"
      },
      "execution_count": 269,
      "outputs": []
    },
    {
      "cell_type": "code",
      "source": [
        "X_train.info()"
      ],
      "metadata": {
        "colab": {
          "base_uri": "https://localhost:8080/"
        },
        "id": "IHS8fXENTAxn",
        "outputId": "a5f706b1-c744-4610-84c4-5ee4e60e5b43"
      },
      "execution_count": 270,
      "outputs": [
        {
          "output_type": "stream",
          "name": "stdout",
          "text": [
            "<class 'pandas.core.frame.DataFrame'>\n",
            "Int64Index: 1047 entries, 941 to 277\n",
            "Data columns (total 10 columns):\n",
            " #   Column       Non-Null Count  Dtype  \n",
            "---  ------       --------------  -----  \n",
            " 0   PassengerId  1047 non-null   int64  \n",
            " 1   Pclass       1047 non-null   int64  \n",
            " 2   Sex          1047 non-null   int64  \n",
            " 3   Age          1047 non-null   float64\n",
            " 4   SibSp        1047 non-null   int64  \n",
            " 5   Parch        1047 non-null   int64  \n",
            " 6   Fare         1047 non-null   float64\n",
            " 7   Embarked_C   1047 non-null   uint8  \n",
            " 8   Embarked_Q   1047 non-null   uint8  \n",
            " 9   Embarked_S   1047 non-null   uint8  \n",
            "dtypes: float64(2), int64(5), uint8(3)\n",
            "memory usage: 68.5 KB\n"
          ]
        }
      ]
    },
    {
      "cell_type": "code",
      "source": [
        "#Converting dataframe into numpy array\n",
        "y_train = np.array(y_train)\n",
        "X_train = X_train.to_numpy()\n",
        "\n",
        "y_test = np.array(y_test)\n",
        "X_test = X_test.to_numpy()\n",
        "\n",
        "# X_train,X_test,y_train,y_test"
      ],
      "metadata": {
        "id": "ftamwYtfAx8W"
      },
      "execution_count": 271,
      "outputs": []
    },
    {
      "cell_type": "code",
      "source": [
        "#Defining the initial weights and bias\n",
        "weight = np.zeros(X_train.shape[1])\n",
        "bias = 0"
      ],
      "metadata": {
        "id": "JyRfUC01PLiL"
      },
      "execution_count": 272,
      "outputs": []
    },
    {
      "cell_type": "code",
      "source": [
        "#Defining the sigmoid function \n",
        "def Sigmoid(x):\n",
        "    return 1 / (1 + math.exp(-x))"
      ],
      "metadata": {
        "id": "6deKbhoaPLnD"
      },
      "execution_count": 273,
      "outputs": []
    },
    {
      "cell_type": "code",
      "source": [
        "loss = 0\n",
        "y_pred = defaultdict(list)\n",
        "for i in range(X_train.shape[0]):\n",
        "    y_pred = Sigmoid(np.dot(X_train[i],weight) + bias) \n",
        "    y = y_train[i]\n",
        "    loss += np.multiply(np.log(y_pred), y) + np.multiply(np.log(1-y_pred), 1-y)\n",
        "loss = - loss/X_train.shape[1]\n",
        "print(loss)"
      ],
      "metadata": {
        "colab": {
          "base_uri": "https://localhost:8080/"
        },
        "id": "DcqlUA4vPLrN",
        "outputId": "70a5dd89-baf7-4ee7-a0ec-ba324bbcb0cf"
      },
      "execution_count": 274,
      "outputs": [
        {
          "output_type": "stream",
          "name": "stdout",
          "text": [
            "72.5725098046247\n"
          ]
        }
      ]
    },
    {
      "cell_type": "code",
      "source": [
        "# Defining the accuracy metrics \n",
        "def accuracy_metrics(actual, predicted):\n",
        "    correct = 0\n",
        "    for i in range(len(actual)):\n",
        "        if (actual[i]>0.5) == (predicted[i]>0.5):\n",
        "            correct += 1\n",
        "    return correct / float(len(actual)) * 100.0"
      ],
      "metadata": {
        "id": "1-2RlPLQPLu7"
      },
      "execution_count": 275,
      "outputs": []
    },
    {
      "cell_type": "code",
      "source": [
        "# Defining the training hyperparameters\n",
        "max_epoch = 100\n",
        "learning_rate = 0.01\n",
        "Training_data = {\"trainLoss\":[],\"testLoss\":[],\"trainAccuracy\":[],\"testAccuracy\":[]}"
      ],
      "metadata": {
        "id": "tfuGmBgDPLyi"
      },
      "execution_count": 276,
      "outputs": []
    },
    {
      "cell_type": "code",
      "source": [
        "def fit_train():\n",
        "    y_pred = []\n",
        "    loss = 0\n",
        "    for i in range(X_train.shape[0]):\n",
        "        y_pred_temp = Sigmoid(np.dot(X_train[i],weight) + bias)        \n",
        "        loss += np.multiply(np.log(y_pred_temp), y_train[i])+ np.multiply(np.log(1-y_pred_temp), 1-y_train[i]) \n",
        "        y_pred.append(y_pred_temp)\n",
        "    loss = -loss/X_train.shape[1]\n",
        "    \n",
        "    return y_pred, loss"
      ],
      "metadata": {
        "id": "_jm2Wp81PL2D"
      },
      "execution_count": 277,
      "outputs": []
    },
    {
      "cell_type": "code",
      "source": [
        "def fit_test():\n",
        "    y_pred_test = []\n",
        "    loss_test = 0\n",
        "    for i in range(X_test.shape[0]):\n",
        "        y_pred_temp = Sigmoid(np.dot(X_test[i],weight)+bias)        \n",
        "        loss_test += -(np.multiply(np.log(y_pred_temp), y_test[i])+ np.multiply(np.log(1-y_pred_temp), 1-y_test[i]))\n",
        "        y_pred_test.append(y_pred_temp)    \n",
        "        \n",
        "    return y_pred_test, loss_test"
      ],
      "metadata": {
        "id": "7Ug7EMOGPL6N"
      },
      "execution_count": 278,
      "outputs": []
    },
    {
      "cell_type": "code",
      "source": [
        "\n",
        "def update_bias(bias):\n",
        "    grad_bias = 0\n",
        "    grad_w = np.zeros(len(weight))\n",
        "    for i in range(X_train.shape[0]):        \n",
        "        grad_bias += (y_pred[i] - y_train[i])*(y_pred[i])*(1-y_pred[i]) #dJ/db\n",
        "        for j in range(len(weight)):\n",
        "            grad_w[j] += (y_pred[i] - y_train[i])*(y_pred[i])*(1-y_pred[i])*(X_train[i][j])\n",
        "\n",
        "    bias = bias - grad_bias*learning_rate/X_train.shape[0]   \n",
        "    \n",
        "    return grad_w, bias"
      ],
      "metadata": {
        "id": "TvqxgEk1PL-K"
      },
      "execution_count": 279,
      "outputs": []
    },
    {
      "cell_type": "code",
      "source": [
        "def update_weight(): \n",
        "    for j in range(len(weight)):\n",
        "        weight[j] = weight[j] - grad_w[j]*learning_rate/X_train.shape[0]\n",
        "    \n",
        "    return weight"
      ],
      "metadata": {
        "id": "mi7jqr2NPMCT"
      },
      "execution_count": 280,
      "outputs": []
    },
    {
      "cell_type": "code",
      "source": [
        "for epoch in range(max_epoch):\n",
        "\n",
        "    y_pred, loss = fit_train()\n",
        "    y_pred_test, loss_test = fit_test()\n",
        "       \n",
        "    loss_test = loss_test/(2*X_test.shape[0])\n",
        "    trainAcc = accuracy_metrics(y_train,y_pred)\n",
        "    testAcc = accuracy_metrics(y_test,y_pred_test)\n",
        "    \n",
        "    Training_data[\"trainLoss\"].append(loss)\n",
        "    Training_data[\"testLoss\"].append(loss_test)\n",
        "    Training_data[\"trainAccuracy\"].append(trainAcc)\n",
        "    Training_data[\"testAccuracy\"].append(testAcc)\n",
        "    \n",
        "    \n",
        "    if epoch%10==0:\n",
        "        print(\"Training loss:%f\" %(loss))\n",
        "        print(\"Test loss:%f\" %(loss_test))\n",
        "        print(\"Training accuracy: %f\" %(trainAcc))\n",
        "        print(\"Validation accuracy: %f\" %(testAcc))\n",
        "    y_pred = np.array(y_pred)\n",
        "    \n",
        "    grad_w, bias = update_bias(bias)\n",
        "    \n",
        "    weight = update_weight()"
      ],
      "metadata": {
        "colab": {
          "base_uri": "https://localhost:8080/"
        },
        "id": "jnpo7uzNP4qv",
        "outputId": "82005ee6-db6b-42d9-c7cb-2429841ac100"
      },
      "execution_count": 281,
      "outputs": [
        {
          "output_type": "stream",
          "name": "stdout",
          "text": [
            "Training loss:72.572510\n",
            "Test loss:0.346574\n",
            "Training accuracy: 60.553964\n",
            "Validation accuracy: 64.885496\n",
            "Training loss:4698.663617\n",
            "Test loss:19.791455\n",
            "Training accuracy: 60.553964\n",
            "Validation accuracy: 64.885496\n",
            "Training loss:4671.717403\n",
            "Test loss:19.677342\n",
            "Training accuracy: 60.553964\n",
            "Validation accuracy: 64.885496\n",
            "Training loss:4643.515993\n",
            "Test loss:19.557973\n",
            "Training accuracy: 60.649475\n",
            "Validation accuracy: 64.885496\n",
            "Training loss:4614.003912\n",
            "Test loss:19.433148\n",
            "Training accuracy: 60.649475\n",
            "Validation accuracy: 64.885496\n",
            "Training loss:4582.980322\n",
            "Test loss:19.302058\n",
            "Training accuracy: 60.744986\n",
            "Validation accuracy: 64.885496\n",
            "Training loss:4550.082251\n",
            "Test loss:19.163208\n",
            "Training accuracy: 60.649475\n",
            "Validation accuracy: 64.885496\n",
            "Training loss:4514.777385\n",
            "Test loss:19.014385\n",
            "Training accuracy: 60.553964\n",
            "Validation accuracy: 64.503817\n",
            "Training loss:4476.371607\n",
            "Test loss:18.852685\n",
            "Training accuracy: 60.553964\n",
            "Validation accuracy: 64.503817\n",
            "Training loss:4434.107152\n",
            "Test loss:18.674914\n",
            "Training accuracy: 60.553964\n",
            "Validation accuracy: 64.503817\n"
          ]
        }
      ]
    },
    {
      "cell_type": "code",
      "source": [
        "\n",
        "# Compute the confusion matrix\n",
        "\n",
        "y_pred_cm = np.rint(y_pred)\n",
        "\n",
        "cm = confusion_matrix(y_train, y_pred_cm, labels=[0, 1])\n",
        "\n",
        "plt.figure(figsize=(6,6))\n",
        "sns.heatmap(cm, annot=True, fmt='g', vmin=0, cmap='Greens', cbar=False)\n",
        "plt.xticks(ticks=[0.5,1.5], labels = [\"Female\", \"Male\"])\n",
        "plt.yticks(ticks=[0.5,1.5], labels = [\"Female\", \"Male\"])\n",
        "plt.xlabel(\"Predicted\")\n",
        "plt.ylabel(\"Actual\")\n",
        "plt.title(\"Confusion Matrix\")\n",
        "plt.show()"
      ],
      "metadata": {
        "colab": {
          "base_uri": "https://localhost:8080/",
          "height": 236
        },
        "id": "2q0cOyj5P4ul",
        "outputId": "895fbad9-6fa6-477e-a086-2cdd95fc179c"
      },
      "execution_count": 282,
      "outputs": [
        {
          "output_type": "error",
          "ename": "NameError",
          "evalue": "ignored",
          "traceback": [
            "\u001b[0;31m---------------------------------------------------------------------------\u001b[0m",
            "\u001b[0;31mNameError\u001b[0m                                 Traceback (most recent call last)",
            "\u001b[0;32m<ipython-input-282-838a5273058f>\u001b[0m in \u001b[0;36m<cell line: 5>\u001b[0;34m()\u001b[0m\n\u001b[1;32m      3\u001b[0m \u001b[0my_pred_cm\u001b[0m \u001b[0;34m=\u001b[0m \u001b[0mnp\u001b[0m\u001b[0;34m.\u001b[0m\u001b[0mrint\u001b[0m\u001b[0;34m(\u001b[0m\u001b[0my_pred\u001b[0m\u001b[0;34m)\u001b[0m\u001b[0;34m\u001b[0m\u001b[0;34m\u001b[0m\u001b[0m\n\u001b[1;32m      4\u001b[0m \u001b[0;34m\u001b[0m\u001b[0m\n\u001b[0;32m----> 5\u001b[0;31m \u001b[0mcm\u001b[0m \u001b[0;34m=\u001b[0m \u001b[0mconfusion_matrix\u001b[0m\u001b[0;34m(\u001b[0m\u001b[0my_train\u001b[0m\u001b[0;34m,\u001b[0m \u001b[0my_pred_cm\u001b[0m\u001b[0;34m,\u001b[0m \u001b[0mlabels\u001b[0m\u001b[0;34m=\u001b[0m\u001b[0;34m[\u001b[0m\u001b[0;36m0\u001b[0m\u001b[0;34m,\u001b[0m \u001b[0;36m1\u001b[0m\u001b[0;34m]\u001b[0m\u001b[0;34m)\u001b[0m\u001b[0;34m\u001b[0m\u001b[0;34m\u001b[0m\u001b[0m\n\u001b[0m\u001b[1;32m      6\u001b[0m \u001b[0;34m\u001b[0m\u001b[0m\n\u001b[1;32m      7\u001b[0m \u001b[0mplt\u001b[0m\u001b[0;34m.\u001b[0m\u001b[0mfigure\u001b[0m\u001b[0;34m(\u001b[0m\u001b[0mfigsize\u001b[0m\u001b[0;34m=\u001b[0m\u001b[0;34m(\u001b[0m\u001b[0;36m6\u001b[0m\u001b[0;34m,\u001b[0m\u001b[0;36m6\u001b[0m\u001b[0;34m)\u001b[0m\u001b[0;34m)\u001b[0m\u001b[0;34m\u001b[0m\u001b[0;34m\u001b[0m\u001b[0m\n",
            "\u001b[0;31mNameError\u001b[0m: name 'confusion_matrix' is not defined"
          ]
        }
      ]
    },
    {
      "cell_type": "code",
      "source": [
        "for epoch in range(max_epoch):\n",
        "  if epoch%100 == 0:  \n",
        "    print(\"Training accuracy: %f\" %(trainAcc))\n",
        "    print(\"Validation accuracy: %f\" %(testAcc))"
      ],
      "metadata": {
        "id": "hdWZ6pmzP4yY"
      },
      "execution_count": null,
      "outputs": []
    },
    {
      "cell_type": "code",
      "source": [
        "\n",
        "tp = cm [0][0]\n",
        "fp = cm [1][0]\n",
        "tn = cm [1][1]\n",
        "fn = cm [0][1]\n",
        "\n",
        "precision = tp / (tp + fp)\n",
        "recall = tp / (tp + fp)\n",
        "\n",
        "f1 = 2 * (precision * recall) / (precision + recall)\n",
        "\n",
        "print(\"F1 score: {}\".format(f1,2))"
      ],
      "metadata": {
        "id": "C7qlFMQGP417"
      },
      "execution_count": null,
      "outputs": []
    },
    {
      "cell_type": "code",
      "source": [
        "plt.plot(Training_data['trainAccuracy'],label='Training Accuracy',color='red')\n",
        "plt.plot(Training_data['testAccuracy'],label='Test Accuracy',color='green')\n",
        "plt.legend(bbox_to_anchor=(1.05, 1), loc=2, borderaxespad=0.)\n",
        "plt.show()"
      ],
      "metadata": {
        "id": "gZieGdAFP451"
      },
      "execution_count": null,
      "outputs": []
    },
    {
      "cell_type": "code",
      "source": [
        "plt.plot(Training_data['trainLoss'],label='Training Loss',color='orange')\n",
        "plt.plot(Training_data['testLoss'],label='Test Loss',color='blue')\n",
        "plt.legend(bbox_to_anchor=(1.05, 1), loc=2, borderaxespad=0.)\n",
        "plt.show()"
      ],
      "metadata": {
        "id": "noGX2jf7P49k"
      },
      "execution_count": null,
      "outputs": []
    },
    {
      "cell_type": "markdown",
      "source": [
        "# ReLu"
      ],
      "metadata": {
        "id": "ZxieWI3yQ8A_"
      }
    },
    {
      "cell_type": "code",
      "source": [
        "def ReLu(x):\n",
        "    return max(0.0, x)"
      ],
      "metadata": {
        "id": "TNAG50hsP5BD"
      },
      "execution_count": null,
      "outputs": []
    },
    {
      "cell_type": "code",
      "source": [
        "\n",
        "loss = 0\n",
        "y_pred = defaultdict(list)\n",
        "for i in range(X_train.shape[0]):\n",
        "    y_pred = ReLu(np.dot(X_train[i],weight) + bias)\n",
        "    y = y_train[i]\n",
        "    loss += (y - y_pred)*(y - y_pred)\n",
        "loss = loss/2"
      ],
      "metadata": {
        "id": "F3hJPAGxP5E0"
      },
      "execution_count": null,
      "outputs": []
    },
    {
      "cell_type": "code",
      "source": [
        "\n",
        "def fit_train_relu():\n",
        "    y_pred = []\n",
        "    loss = 0\n",
        "    for i in range(X_train.shape[0]):\n",
        "        y_pred_temp = ReLu(np.dot(X_train[i],weight) + bias)        \n",
        "        loss += (y_train[i] - y_pred_temp)*(y_train[i] - y_pred_temp) \n",
        "        y_pred.append(y_pred_temp)\n",
        "    loss = loss/(2 * X_train.shape[0])\n",
        "    \n",
        "    return y_pred, loss"
      ],
      "metadata": {
        "id": "elMLUu3RP5Io"
      },
      "execution_count": null,
      "outputs": []
    },
    {
      "cell_type": "code",
      "source": [
        "\n",
        "def fit_test_relu():\n",
        "    y_pred_test = []\n",
        "    loss_test = 0\n",
        "    for i in range(X_test.shape[0]):\n",
        "        y_pred_temp = ReLu(np.dot(X_test[i],weight)+bias)        \n",
        "        loss_test += (y_test[i] - y_pred_temp)*(y_test[i] - y_pred_temp) \n",
        "        y_pred_test.append(y_pred_temp) \n",
        "    return y_pred_test, loss_test"
      ],
      "metadata": {
        "id": "k04-Ro4HRIE8"
      },
      "execution_count": null,
      "outputs": []
    },
    {
      "cell_type": "code",
      "source": [
        "#Training the neural network with relu activation function\n",
        "max_epoch = 50\n",
        "\n",
        "for epoch in range(max_epoch):\n",
        "\n",
        "  y_pred, loss = fit_train_relu()\n",
        "  y_pred_test, loss_test = fit_test_relu()\n",
        "        \n",
        "  loss_test = loss_test/(2*X_test.shape[0])\n",
        "  trainAcc = accuracy_metrics(y_train,y_pred)\n",
        "  testAcc = accuracy_metrics(y_test,y_pred_test)\n",
        "    \n",
        "  Training_data[\"trainLoss\"].append(loss)\n",
        "  Training_data[\"testLoss\"].append(loss_test)\n",
        "  Training_data[\"trainAccuracy\"].append(trainAcc)\n",
        "  Training_data[\"testAccuracy\"].append(testAcc)\n",
        "    \n",
        "    \n",
        "  if epoch%10==0:\n",
        "    print(\"Training loss:%f\" %(loss))\n",
        "    print(\"est loss:%f\" %(loss_test))\n",
        "    print(\"Training accuracy: %f\" %(trainAcc))\n",
        "    print(\"Validation accuracy: %f\" %(testAcc))\n",
        "        \n",
        "  y_pred = np.array(y_pred)  \n",
        "  grad_w, bias = update_bias(bias)\n",
        "  weight = update_weight()"
      ],
      "metadata": {
        "id": "pFUJFhSkRII9"
      },
      "execution_count": null,
      "outputs": []
    },
    {
      "cell_type": "code",
      "source": [
        "plt.plot(Training_data['trainAccuracy'],label='Training Accuracy',color='red')\n",
        "plt.plot(Training_data['testAccuracy'],label='Test Accuracy',color='green')\n",
        "plt.legend(bbox_to_anchor=(1.05, 1), loc=2, borderaxespad=0.)\n",
        "plt.show()"
      ],
      "metadata": {
        "id": "FAPCTOKkRIMt"
      },
      "execution_count": null,
      "outputs": []
    },
    {
      "cell_type": "code",
      "source": [
        "y_pred_cm = np.rint(y_pred)\n",
        "\n",
        "cm = confusion_matrix(y_train, y_pred_cm, labels=[0, 1])\n",
        "\n",
        "plt.figure(figsize=(6,6))\n",
        "sns.heatmap(cm, annot=True, fmt='g', vmin=0, cmap='Greens', cbar=False)\n",
        "plt.xticks(ticks=[0.5,1.5], labels = [\"Female\", \"Male\"])\n",
        "plt.yticks(ticks=[0.5,1.5], labels = [\"Female\", \"Male\"])\n",
        "plt.xlabel(\"Predicted\")\n",
        "plt.ylabel(\"Actual\")\n",
        "plt.title(\"Confusion Matrix\")\n",
        "plt.show()\n"
      ],
      "metadata": {
        "id": "JApeXZaMRIQF"
      },
      "execution_count": null,
      "outputs": []
    },
    {
      "cell_type": "code",
      "source": [
        "for epoch in range(max_epoch):\n",
        "  if epoch%50 == 0:  \n",
        "    print(\"Training accuracy: %f\" %(trainAcc))\n",
        "    print(\"Validation accuracy: %f\" %(testAcc))"
      ],
      "metadata": {
        "id": "ajXnPOxmRITp"
      },
      "execution_count": null,
      "outputs": []
    },
    {
      "cell_type": "code",
      "source": [
        "tp = cm [0][0]\n",
        "fp = cm [1][0]\n",
        "tn = cm [1][1]\n",
        "fn = cm [0][1]\n",
        "\n",
        "precision = tp / (tp + fp)\n",
        "recall = tp / (tp + fn)\n",
        "\n",
        "f1 = 2 * (precision * recall) / (precision + recall)\n",
        "\n",
        "print(\"F1 score: {}\".format(round(f1,2)))"
      ],
      "metadata": {
        "id": "PrcIcI6pRIXh"
      },
      "execution_count": null,
      "outputs": []
    },
    {
      "cell_type": "code",
      "source": [],
      "metadata": {
        "id": "2OhOgUyQRIa9"
      },
      "execution_count": null,
      "outputs": []
    },
    {
      "cell_type": "code",
      "source": [],
      "metadata": {
        "id": "OK3ZVoMDRIeu"
      },
      "execution_count": null,
      "outputs": []
    },
    {
      "cell_type": "code",
      "source": [],
      "metadata": {
        "id": "pV7AiQaCP5Mm"
      },
      "execution_count": null,
      "outputs": []
    },
    {
      "cell_type": "markdown",
      "source": [
        "# Activation Functions"
      ],
      "metadata": {
        "id": "USoli7IYZXYB"
      }
    },
    {
      "cell_type": "code",
      "source": [
        "def sigmoidFunction(a): \n",
        "    return 1/(1+np.exp(-a))\n",
        "\n",
        "def tanh(b):\n",
        "    c = (np.exp(b)-np.exp(-b))/(np.exp(b)+np.exp(-b))\n",
        "    return 1-c**2"
      ],
      "metadata": {
        "id": "t0JivYL5TAqJ"
      },
      "execution_count": 239,
      "outputs": []
    },
    {
      "cell_type": "code",
      "source": [
        "# Log Loss or Cross Entropy\n",
        "def logLoss(m,Y,Z):\n",
        "    return (-1/m)*np.sum((Y*np.log(Z))+(1-Y)*np.log(1-Z))"
      ],
      "metadata": {
        "id": "knoye0UnTAtu"
      },
      "execution_count": 240,
      "outputs": []
    },
    {
      "cell_type": "markdown",
      "source": [
        "**Metrics function**"
      ],
      "metadata": {
        "id": "hSlZ2Mx-Z03E"
      }
    },
    {
      "cell_type": "code",
      "source": [
        "def Metrics(y_actual,y_pred):\n",
        "    TP = 0 #True Positives\n",
        "    TN = 0 # True Negatives\n",
        "    FP = 0 # False Positives\n",
        "    FN = 0 # False Negatives\n",
        "\n",
        "    for i in range(len(y_pred)): \n",
        "        if y_actual[i]==y_pred[i]==1:\n",
        "            TP += 1\n",
        "        if y_pred[i]==1 and y_actual[i]!=y_pred[i]:\n",
        "            FP += 1\n",
        "        if y_actual[i]==y_pred[i]==0:\n",
        "            TN += 1\n",
        "        if y_pred[i]==0 and y_actual[i]!=y_pred[i]:\n",
        "            FN += 1\n",
        "    \n",
        "    #Precision Score\n",
        "    precision = TP / (FP + TP)\n",
        "    #Recall Score\n",
        "    recall = TP / (FN + TP)\n",
        "    #Accuracy\n",
        "    accuracy = ((TP + TN)/ (TP + FN + TN + FP)) * 100\n",
        "    #F1 Score\n",
        "    F1_Score = 2* precision * recall/ (precision + recall)\n",
        "    print(f'Accuracy: {round(accuracy,2)}%')\n",
        "    print(f'Precision:{round(precision,2)}')\n",
        "    print(f'Recall Score:{round(recall,2)}')\n",
        "    print(f'F1 Score:{round(F1_Score,2)}')"
      ],
      "metadata": {
        "id": "99QF_Rh8TA1h"
      },
      "execution_count": 241,
      "outputs": []
    },
    {
      "cell_type": "markdown",
      "source": [
        "**Single Neuron function with SGD optimization**"
      ],
      "metadata": {
        "id": "zaTF_byvaJa5"
      }
    },
    {
      "cell_type": "code",
      "source": [
        "#Logistic Regression - Model Definition\n",
        "class logisticRegression:\n",
        "    def __init__(self,total_iterations,learning_rate):\n",
        "        self.learning_rate=learning_rate\n",
        "        self.total_iterations=total_iterations\n",
        "        self.bias=0.1\n",
        "\n",
        "\n",
        "    def train(self,input,Y): \n",
        "\n",
        "        rows,cols=input.shape\n",
        "        self.m=rows\n",
        "        self.w=np.zeros((cols,1))\n",
        "        costList=[]\n",
        "        iterationList=[]\n",
        "        for i in range(self.total_iterations+1):\n",
        "            # y= x * w + b\n",
        "            output=np.dot(input,self.w)+self.bias\n",
        "            \n",
        "            #Apply Sigmoid Activation function\n",
        "            Z = sigmoidFunction(output)\n",
        "\n",
        "            #calculating cost with Log Loss Method/CrossEntropy\n",
        "            cost = logLoss(self.m,Y,Z)\n",
        "            \n",
        "            if i%1000==0:\n",
        "                iterationList.append(i)\n",
        "                costList.append(cost)\n",
        "            \n",
        "            #Gradient Descent\n",
        "            dw=(1/self.m)*np.dot(input.T,np.subtract(Z,Y))\n",
        "            db=(1/self.m)*np.sum(np.subtract(Z,Y))\n",
        "            \n",
        "            #updating weights and bais (Learning Part)\n",
        "            self.w = self.w-self.learning_rate*dw\n",
        "            self.bias = self.bias - self.learning_rate*db\n",
        "        print(cost)\n",
        "        plt.plot(iterationList, costList)\n",
        "        plt.title(\"Cost Relation\")\n",
        "        plt.xlabel(\"Iterations\")\n",
        "        plt.ylabel(\"Cost\")\n",
        "        plt.show()\n",
        "        return \n",
        "  #Prediction function\n",
        "    def predict(self,input):\n",
        "        output=np.dot(input,self.w)+self.bias\n",
        "        Z=sigmoidFunction(output)\n",
        "        # if output more than 0.5 then yes else no. (Binary Classification)\n",
        "        prediction=[]\n",
        "        for i in Z:\n",
        "            if i>=0.5:\n",
        "                prediction.append(1)\n",
        "            else:\n",
        "                prediction.append(0)\n",
        "        return prediction"
      ],
      "metadata": {
        "id": "b9GSghtyaBkA"
      },
      "execution_count": 242,
      "outputs": []
    },
    {
      "cell_type": "markdown",
      "source": [
        "**Training model**"
      ],
      "metadata": {
        "id": "1-veOXLfjnlw"
      }
    },
    {
      "cell_type": "code",
      "source": [
        "model_wtSigmoid=logisticRegression(total_iterations=10000,learning_rate=0.001)"
      ],
      "metadata": {
        "id": "1F0Q-oElaBoY"
      },
      "execution_count": 243,
      "outputs": []
    },
    {
      "cell_type": "code",
      "source": [
        "model_wtSigmoid.train(X_train,y_train)\n",
        "\n"
      ],
      "metadata": {
        "colab": {
          "base_uri": "https://localhost:8080/",
          "height": 398
        },
        "id": "dRbGe75LaBr6",
        "outputId": "c066c19b-4a0c-4ed2-ab8e-7e51be0e9c44"
      },
      "execution_count": 244,
      "outputs": [
        {
          "output_type": "stream",
          "name": "stderr",
          "text": [
            "<ipython-input-240-65751d9e6a4e>:3: RuntimeWarning: divide by zero encountered in log\n",
            "  return (-1/m)*np.sum((Y*np.log(Z))+(1-Y)*np.log(1-Z))\n",
            "<ipython-input-240-65751d9e6a4e>:3: RuntimeWarning: invalid value encountered in multiply\n",
            "  return (-1/m)*np.sum((Y*np.log(Z))+(1-Y)*np.log(1-Z))\n"
          ]
        },
        {
          "output_type": "error",
          "ename": "KeyboardInterrupt",
          "evalue": "ignored",
          "traceback": [
            "\u001b[0;31m---------------------------------------------------------------------------\u001b[0m",
            "\u001b[0;31mKeyboardInterrupt\u001b[0m                         Traceback (most recent call last)",
            "\u001b[0;32m<ipython-input-244-c3f91a7636c1>\u001b[0m in \u001b[0;36m<cell line: 1>\u001b[0;34m()\u001b[0m\n\u001b[0;32m----> 1\u001b[0;31m \u001b[0mmodel_wtSigmoid\u001b[0m\u001b[0;34m.\u001b[0m\u001b[0mtrain\u001b[0m\u001b[0;34m(\u001b[0m\u001b[0mX_train\u001b[0m\u001b[0;34m,\u001b[0m\u001b[0my_train\u001b[0m\u001b[0;34m)\u001b[0m\u001b[0;34m\u001b[0m\u001b[0;34m\u001b[0m\u001b[0m\n\u001b[0m\u001b[1;32m      2\u001b[0m \u001b[0;34m\u001b[0m\u001b[0m\n",
            "\u001b[0;32m<ipython-input-242-d55da153f61e>\u001b[0m in \u001b[0;36mtrain\u001b[0;34m(self, input, Y)\u001b[0m\n\u001b[1;32m     19\u001b[0m \u001b[0;34m\u001b[0m\u001b[0m\n\u001b[1;32m     20\u001b[0m             \u001b[0;31m#Apply Sigmoid Activation function\u001b[0m\u001b[0;34m\u001b[0m\u001b[0;34m\u001b[0m\u001b[0m\n\u001b[0;32m---> 21\u001b[0;31m             \u001b[0mZ\u001b[0m \u001b[0;34m=\u001b[0m \u001b[0msigmoidFunction\u001b[0m\u001b[0;34m(\u001b[0m\u001b[0moutput\u001b[0m\u001b[0;34m)\u001b[0m\u001b[0;34m\u001b[0m\u001b[0;34m\u001b[0m\u001b[0m\n\u001b[0m\u001b[1;32m     22\u001b[0m \u001b[0;34m\u001b[0m\u001b[0m\n\u001b[1;32m     23\u001b[0m             \u001b[0;31m#calculating cost with Log Loss Method/CrossEntropy\u001b[0m\u001b[0;34m\u001b[0m\u001b[0;34m\u001b[0m\u001b[0m\n",
            "\u001b[0;32m<ipython-input-239-88dea6537864>\u001b[0m in \u001b[0;36msigmoidFunction\u001b[0;34m(a)\u001b[0m\n\u001b[1;32m      1\u001b[0m \u001b[0;32mdef\u001b[0m \u001b[0msigmoidFunction\u001b[0m\u001b[0;34m(\u001b[0m\u001b[0ma\u001b[0m\u001b[0;34m)\u001b[0m\u001b[0;34m:\u001b[0m\u001b[0;34m\u001b[0m\u001b[0;34m\u001b[0m\u001b[0m\n\u001b[0;32m----> 2\u001b[0;31m     \u001b[0;32mreturn\u001b[0m \u001b[0;36m1\u001b[0m\u001b[0;34m/\u001b[0m\u001b[0;34m(\u001b[0m\u001b[0;36m1\u001b[0m\u001b[0;34m+\u001b[0m\u001b[0mnp\u001b[0m\u001b[0;34m.\u001b[0m\u001b[0mexp\u001b[0m\u001b[0;34m(\u001b[0m\u001b[0;34m-\u001b[0m\u001b[0ma\u001b[0m\u001b[0;34m)\u001b[0m\u001b[0;34m)\u001b[0m\u001b[0;34m\u001b[0m\u001b[0;34m\u001b[0m\u001b[0m\n\u001b[0m\u001b[1;32m      3\u001b[0m \u001b[0;34m\u001b[0m\u001b[0m\n\u001b[1;32m      4\u001b[0m \u001b[0;32mdef\u001b[0m \u001b[0mtanh\u001b[0m\u001b[0;34m(\u001b[0m\u001b[0mb\u001b[0m\u001b[0;34m)\u001b[0m\u001b[0;34m:\u001b[0m\u001b[0;34m\u001b[0m\u001b[0;34m\u001b[0m\u001b[0m\n\u001b[1;32m      5\u001b[0m     \u001b[0mc\u001b[0m \u001b[0;34m=\u001b[0m \u001b[0;34m(\u001b[0m\u001b[0mnp\u001b[0m\u001b[0;34m.\u001b[0m\u001b[0mexp\u001b[0m\u001b[0;34m(\u001b[0m\u001b[0mb\u001b[0m\u001b[0;34m)\u001b[0m\u001b[0;34m-\u001b[0m\u001b[0mnp\u001b[0m\u001b[0;34m.\u001b[0m\u001b[0mexp\u001b[0m\u001b[0;34m(\u001b[0m\u001b[0;34m-\u001b[0m\u001b[0mb\u001b[0m\u001b[0;34m)\u001b[0m\u001b[0;34m)\u001b[0m\u001b[0;34m/\u001b[0m\u001b[0;34m(\u001b[0m\u001b[0mnp\u001b[0m\u001b[0;34m.\u001b[0m\u001b[0mexp\u001b[0m\u001b[0;34m(\u001b[0m\u001b[0mb\u001b[0m\u001b[0;34m)\u001b[0m\u001b[0;34m+\u001b[0m\u001b[0mnp\u001b[0m\u001b[0;34m.\u001b[0m\u001b[0mexp\u001b[0m\u001b[0;34m(\u001b[0m\u001b[0;34m-\u001b[0m\u001b[0mb\u001b[0m\u001b[0;34m)\u001b[0m\u001b[0;34m)\u001b[0m\u001b[0;34m\u001b[0m\u001b[0;34m\u001b[0m\u001b[0m\n",
            "\u001b[0;31mKeyboardInterrupt\u001b[0m: "
          ]
        }
      ]
    },
    {
      "cell_type": "markdown",
      "source": [
        "**Predicting from the trained model**"
      ],
      "metadata": {
        "id": "05rqIs7Ij3__"
      }
    },
    {
      "cell_type": "code",
      "source": [
        "test_predictionSigmoid = model_wtSigmoid.predict(X_test)"
      ],
      "metadata": {
        "id": "PmesPMHsaBvU"
      },
      "execution_count": null,
      "outputs": []
    },
    {
      "cell_type": "code",
      "source": [
        "Metrics(y_test,test_predictionSigmoid)\n",
        "\n",
        "\n"
      ],
      "metadata": {
        "id": "MfiMsONLaBzQ"
      },
      "execution_count": null,
      "outputs": []
    },
    {
      "cell_type": "markdown",
      "source": [
        "**Confusion Metrix**"
      ],
      "metadata": {
        "id": "t4qJ94TUlTqh"
      }
    },
    {
      "cell_type": "code",
      "source": [
        "X_train,X_test,y_train,y_test\n",
        "\n",
        "\n",
        "# from sklearn.metrics import confusion_matrix\n",
        "\n",
        "# y_pred_cm = np.rint(y_pred)\n",
        "\n",
        "from sklearn.metrics import confusion_matrix\n",
        " \n",
        "cm = confusion_matrix(y_test,test_predictionSigmoid)\n",
        "cm\n",
        "\n",
        "# import matplotlib.pyplot as plt\n",
        "# from sklearn.metrics import plot_confusion_matrix\n",
        " \n",
        "# color = 'white'\n",
        "# matrix = plot_confusion_matrix(knn, X_test, y_test, cmap=plt.cm.Blues)\n",
        "# matrix.ax_.set_title('Confusion Matrix', color=color)\n",
        "# plt.xlabel('Predicted Label', color=color)\n",
        "# plt.ylabel('True Label', color=color)\n",
        "# plt.gcf().axes[0].tick_params(colors=color)\n",
        "# plt.gcf().axes[1].tick_params(colors=color)\n",
        "# plt.show()\n",
        "from sklearn.metrics import classification_report\n",
        " \n",
        "print(classification_report(y_test,test_predictionSigmoid))\n",
        "\n",
        "# cm = confusion_matrix(y_train, y_pred_cm, labels=[0, 1])\n",
        "\n",
        "plt.figure(figsize=(6,6))\n",
        "sns.heatmap(cm, annot=True, fmt='g', vmin=0, cmap='Greens', cbar=False)\n",
        "# plt.xticks(ticks=[0.5,1.5], labels = [\"Female\", \"Male\"])\n",
        "# plt.yticks(ticks=[0.5,1.5], labels = [\"Female\", \"Male\"])\n",
        "# plt.xlabel(\"Predicted\")\n",
        "# plt.ylabel(\"Actual\")\n",
        "plt.title(\"Confusion Matrix\")\n",
        "plt.show()\n"
      ],
      "metadata": {
        "id": "ilg-7xzIlYSh"
      },
      "execution_count": null,
      "outputs": []
    },
    {
      "cell_type": "code",
      "source": [
        "tp = cm [0][0]\n",
        "fp = cm [1][0]\n",
        "tn = cm [1][1]\n",
        "fn = cm [0][1]\n",
        "\n",
        "precision = tp / (tp + fp)\n",
        "recall = tp / (tp + fp)\n",
        "\n",
        "f1 = 2 * (precision * recall) / (precision + recall)\n",
        "\n",
        "print(\"F1 score: {}\".format(f1,2))"
      ],
      "metadata": {
        "id": "CJ3h_afExi3h"
      },
      "execution_count": null,
      "outputs": []
    },
    {
      "cell_type": "markdown",
      "source": [
        "# Using Tanh Activation"
      ],
      "metadata": {
        "id": "GT_K7mL6kOVQ"
      }
    },
    {
      "cell_type": "code",
      "source": [
        "#Logistic Regression - Model Definition\n",
        "class logisticRegression:\n",
        "    def __init__(self,total_iterations,learning_rate):\n",
        "        self.learning_rate=learning_rate\n",
        "        self.total_iterations=total_iterations\n",
        "        self.bias=0.01\n",
        "\n",
        "\n",
        "    def train(self,input,Y): \n",
        "\n",
        "        rows,cols=input.shape\n",
        "        self.m=rows\n",
        "        self.w=np.zeros((cols,1))\n",
        "        costList=[]\n",
        "        iterationList=[]\n",
        "        for i in range(self.total_iterations+1):\n",
        "            # y= x * w + b\n",
        "            output=np.dot(input,self.w)+self.bias\n",
        "            \n",
        "            #Apply Sigmoid Activation function\n",
        "            Z = tanh(output)\n",
        "\n",
        "            #calculating cost with Log Loss Method/CrossEntropy\n",
        "            cost = logLoss(self.m,Y,Z)\n",
        "            \n",
        "            if i%1000==0:\n",
        "                iterationList.append(i)\n",
        "                costList.append(cost)\n",
        "            \n",
        "            #Gradient Descent\n",
        "            dw=(1/self.m)*np.dot(input.T,np.subtract(Z,Y))\n",
        "            db=(1/self.m)*np.sum(np.subtract(Z,Y))\n",
        "            \n",
        "            #updating weights and bais (Learning Part)\n",
        "            self.w = self.w-self.learning_rate*dw\n",
        "            self.bias = self.bias - self.learning_rate*db\n",
        "        print(cost)\n",
        "        plt.plot(iterationList, costList)\n",
        "        plt.title(\"Cost Relation\")\n",
        "        plt.xlabel(\"Iterations\")\n",
        "        plt.ylabel(\"Cost\")\n",
        "        plt.show()\n",
        "        return \n",
        "      #Prediction function\n",
        "    def predict(self,input):\n",
        "        output=np.dot(input,self.w)+self.bias\n",
        "        Z=tanh(output)\n",
        "        # if output more than 0.5 then yes else no. (Binary Classification)\n",
        "        prediction=[]\n",
        "        for i in Z:\n",
        "            if i>=0.5:\n",
        "                prediction.append(1)\n",
        "            else:\n",
        "                prediction.append(0)\n",
        "        return prediction"
      ],
      "metadata": {
        "id": "31NgWnJBkBSb"
      },
      "execution_count": null,
      "outputs": []
    },
    {
      "cell_type": "markdown",
      "source": [
        "**Training the Model**"
      ],
      "metadata": {
        "id": "7EafMKXnkhvY"
      }
    },
    {
      "cell_type": "code",
      "source": [
        "model_wtTanh=logisticRegression(total_iterations=10000,learning_rate=0.001)"
      ],
      "metadata": {
        "id": "URt17GmqkBWD"
      },
      "execution_count": null,
      "outputs": []
    },
    {
      "cell_type": "code",
      "source": [
        "\n",
        "model_wtTanh.train(X_train,y_train)\n"
      ],
      "metadata": {
        "id": "51hnTk-AkBZs"
      },
      "execution_count": null,
      "outputs": []
    },
    {
      "cell_type": "code",
      "source": [
        "test_predictionTanh = model_wtTanh.predict(X_test)"
      ],
      "metadata": {
        "id": "ANOuhPw8kBdD"
      },
      "execution_count": null,
      "outputs": []
    },
    {
      "cell_type": "code",
      "source": [
        "Metrics(y_test,test_predictionTanh)"
      ],
      "metadata": {
        "id": "7wN1Td2NaB23"
      },
      "execution_count": null,
      "outputs": []
    },
    {
      "cell_type": "markdown",
      "source": [
        "**Confusion Matrix**"
      ],
      "metadata": {
        "id": "PngkbIdklIex"
      }
    },
    {
      "cell_type": "code",
      "source": [
        "X_train,X_test,y_train,y_test\n",
        "\n",
        "y_pred_cm = np.rint(y_pred)\n",
        "\n",
        "cm = confusion_matrix(y_train, y_pred_cm, labels=[0, 1])\n",
        "\n",
        "plt.figure(figsize=(6,6))\n",
        "sns.heatmap(cm, annot=True, fmt='g', vmin=0, cmap='Greens', cbar=False)\n",
        "plt.xticks(ticks=[0.5,1.5], labels = [\"Female\", \"Male\"])\n",
        "plt.yticks(ticks=[0.5,1.5], labels = [\"Female\", \"Male\"])\n",
        "plt.xlabel(\"Predicted\")\n",
        "plt.ylabel(\"Actual\")\n",
        "plt.title(\"Confusion Matrix\")\n",
        "plt.show()"
      ],
      "metadata": {
        "id": "0imXVpX3lGe6"
      },
      "execution_count": null,
      "outputs": []
    },
    {
      "cell_type": "code",
      "source": [],
      "metadata": {
        "id": "CodMEj0ClGi8"
      },
      "execution_count": null,
      "outputs": []
    },
    {
      "cell_type": "code",
      "source": [],
      "metadata": {
        "id": "UWULoHkFlGmQ"
      },
      "execution_count": null,
      "outputs": []
    },
    {
      "cell_type": "code",
      "source": [],
      "metadata": {
        "id": "qxPSQWqSlGqD"
      },
      "execution_count": null,
      "outputs": []
    },
    {
      "cell_type": "code",
      "source": [],
      "metadata": {
        "id": "1HMTMIOjTBAi"
      },
      "execution_count": null,
      "outputs": []
    },
    {
      "cell_type": "code",
      "source": [
        "'''Define impute functions. Impute categorical NaNs with -1, \n",
        "where we add 1 to make it 0. For each \n",
        "continuous variables, we impute missing values with median values of that\n",
        "column, and for every variable\n",
        "where any rows were imputed, add a separate 'imputed or not' column'''\n",
        "\n",
        "def mydf_to_nums(my_df, feature, null_status):\n",
        "    if not is_numeric_dtype(feature):\n",
        "        my_df[null_status] = feature.cat.codes + 1\n",
        "        \n",
        "def mydf_imputer(my_df, feature, null_status, null_table):\n",
        "    if is_numeric_dtype(feature):\n",
        "        if pd.isnull(feature).sum() or (null_status in null_table):\n",
        "            my_df[null_status+'_na'] = pd.isnull(feature)\n",
        "            filler = null_table[null_status] if null_status in null_table else feature.median()\n",
        "            my_df[null_status] = feature.fillna(filler)\n",
        "            null_table[null_status] = filler\n",
        "    return null_table   \n",
        "\n",
        "def mydf_preprocessor(my_df, null_table):\n",
        "    '''null_table  = your table or None'''\n",
        "    \n",
        "    if null_table is None: \n",
        "        null_table = dict()\n",
        "    for p,q in my_df.items(): \n",
        "        null_table = mydf_imputer(my_df, q, p, null_table)\n",
        "    for p,q in my_df.items(): \n",
        "        mydf_to_nums(my_df, q, p)\n",
        "    my_df = pd.get_dummies(my_df, dummy_na = True)\n",
        "    res = [my_df, null_table]\n",
        "    return res"
      ],
      "metadata": {
        "id": "5UFi5Sg0_rzx"
      },
      "execution_count": 54,
      "outputs": []
    },
    {
      "cell_type": "code",
      "source": [
        "#Define a function to convert object types and string types to category type\n",
        "\n",
        "def str_to_cat(my_df):\n",
        "    for p,q in my_df.items(): #my_df.items() is a generator in Python\n",
        "        if is_string_dtype(q): \n",
        "            my_df[p] = q.astype('category').cat.as_ordered()\n",
        "    return my_df"
      ],
      "metadata": {
        "id": "KxpMVjSP_r3n"
      },
      "execution_count": 55,
      "outputs": []
    },
    {
      "cell_type": "code",
      "source": [],
      "metadata": {
        "id": "1tZFiy_qBauw"
      },
      "execution_count": null,
      "outputs": []
    },
    {
      "cell_type": "code",
      "source": [],
      "metadata": {
        "id": "Sa7SmYObBayH"
      },
      "execution_count": null,
      "outputs": []
    },
    {
      "cell_type": "code",
      "source": [],
      "metadata": {
        "id": "UmunSBLOBa1g"
      },
      "execution_count": null,
      "outputs": []
    },
    {
      "cell_type": "code",
      "source": [],
      "metadata": {
        "id": "ZIQL9vCsBa5n"
      },
      "execution_count": null,
      "outputs": []
    },
    {
      "cell_type": "code",
      "source": [],
      "metadata": {
        "id": "Sd0o-ouuBa9L"
      },
      "execution_count": null,
      "outputs": []
    },
    {
      "cell_type": "markdown",
      "source": [
        "**hotmap for relationships**"
      ],
      "metadata": {
        "id": "TDzeUcnX3f83"
      }
    },
    {
      "cell_type": "code",
      "source": [
        "import matplotlib.pyplot as plt # plotting\n",
        "import seaborn as sns\n",
        "import numpy as np # linear algebra"
      ],
      "metadata": {
        "id": "h70zTrJFrZEv"
      },
      "execution_count": 7,
      "outputs": []
    },
    {
      "cell_type": "code",
      "source": [
        "plt.figure(figsize=(11,9))\n",
        "corr = df.corr().round(2)\n",
        "\n",
        "mask = np.zeros_like(corr, dtype=bool)\n",
        "mask[np.triu_indices_from(mask)] = True\n",
        "# # Want diagonal elements as well\n",
        "# mask[np.diag_indices_from(mask)] = False\n",
        "\n",
        "sns.heatmap(data=corr, annot=True,cmap='coolwarm',mask=mask)\n",
        "plt.xticks(rotation=90)\n",
        "plt.show()"
      ],
      "metadata": {
        "colab": {
          "base_uri": "https://localhost:8080/",
          "height": 797
        },
        "id": "WXFc1lHurZIZ",
        "outputId": "d3e32d80-1e9e-4fbc-f71d-8fdc06e390f2"
      },
      "execution_count": 8,
      "outputs": [
        {
          "output_type": "display_data",
          "data": {
            "text/plain": [
              "<Figure size 1100x900 with 2 Axes>"
            ],
            "image/png": "[encoded data removed]"
          },
          "metadata": {}
        }
      ]
    },
    {
      "cell_type": "code",
      "source": [
        "df.shape\n"
      ],
      "metadata": {
        "colab": {
          "base_uri": "https://localhost:8080/"
        },
        "id": "68LHvSLWESO0",
        "outputId": "140b0a17-d0d9-4d96-c729-48ab66489143"
      },
      "execution_count": 9,
      "outputs": [
        {
          "output_type": "execute_result",
          "data": {
            "text/plain": [
              "(506, 14)"
            ]
          },
          "metadata": {},
          "execution_count": 9
        }
      ]
    },
    {
      "cell_type": "code",
      "source": [
        "df.columns"
      ],
      "metadata": {
        "colab": {
          "base_uri": "https://localhost:8080/"
        },
        "id": "UdokKd1rESWb",
        "outputId": "8379e39c-b3eb-4848-99cc-f351edcdfe03"
      },
      "execution_count": 10,
      "outputs": [
        {
          "output_type": "execute_result",
          "data": {
            "text/plain": [
              "Index(['CRIM', 'ZN', 'INDUS', 'CHAS', 'NOX', 'RM', 'AGE', 'DIS', 'RAD', 'TAX',\n",
              "       'PTRATIO', 'B', 'LSTAT', 'MEDV'],\n",
              "      dtype='object')"
            ]
          },
          "metadata": {},
          "execution_count": 10
        }
      ]
    },
    {
      "cell_type": "code",
      "source": [
        "df.dtypes"
      ],
      "metadata": {
        "colab": {
          "base_uri": "https://localhost:8080/"
        },
        "id": "6TxVfQGjESZ6",
        "outputId": "dbf508cf-d42d-4a56-a688-6c067d80ade9"
      },
      "execution_count": 11,
      "outputs": [
        {
          "output_type": "execute_result",
          "data": {
            "text/plain": [
              "CRIM       float64\n",
              "ZN         float64\n",
              "INDUS      float64\n",
              "CHAS         int64\n",
              "NOX        float64\n",
              "RM         float64\n",
              "AGE        float64\n",
              "DIS        float64\n",
              "RAD          int64\n",
              "TAX        float64\n",
              "PTRATIO    float64\n",
              "B          float64\n",
              "LSTAT      float64\n",
              "MEDV       float64\n",
              "dtype: object"
            ]
          },
          "metadata": {},
          "execution_count": 11
        }
      ]
    },
    {
      "cell_type": "code",
      "source": [
        "df.nunique()  # Identifying the unique number of values in the dataset"
      ],
      "metadata": {
        "colab": {
          "base_uri": "https://localhost:8080/"
        },
        "id": "33H98qBnESdk",
        "outputId": "e323678e-d83c-4ad0-cd43-5e5c67a5641f"
      },
      "execution_count": 12,
      "outputs": [
        {
          "output_type": "execute_result",
          "data": {
            "text/plain": [
              "CRIM       504\n",
              "ZN          26\n",
              "INDUS       76\n",
              "CHAS         2\n",
              "NOX         81\n",
              "RM         446\n",
              "AGE        356\n",
              "DIS        412\n",
              "RAD          9\n",
              "TAX         66\n",
              "PTRATIO     46\n",
              "B          357\n",
              "LSTAT      455\n",
              "MEDV       229\n",
              "dtype: int64"
            ]
          },
          "metadata": {},
          "execution_count": 12
        }
      ]
    },
    {
      "cell_type": "code",
      "source": [
        "# Check for missing values\n",
        "df.isnull().sum()"
      ],
      "metadata": {
        "colab": {
          "base_uri": "https://localhost:8080/"
        },
        "id": "F-QQlnU4EShD",
        "outputId": "8c82aa91-a7de-4f5c-b4df-931473411502"
      },
      "execution_count": 15,
      "outputs": [
        {
          "output_type": "execute_result",
          "data": {
            "text/plain": [
              "CRIM       0\n",
              "ZN         0\n",
              "INDUS      0\n",
              "CHAS       0\n",
              "NOX        0\n",
              "RM         0\n",
              "AGE        0\n",
              "DIS        0\n",
              "RAD        0\n",
              "TAX        0\n",
              "PTRATIO    0\n",
              "B          0\n",
              "LSTAT      0\n",
              "MEDV       0\n",
              "dtype: int64"
            ]
          },
          "metadata": {},
          "execution_count": 15
        }
      ]
    },
    {
      "cell_type": "code",
      "source": [
        "df.describe()"
      ],
      "metadata": {
        "colab": {
          "base_uri": "https://localhost:8080/",
          "height": 364
        },
        "id": "R525mT4BESkj",
        "outputId": "1e9b9ce1-0ebf-46e1-e729-4e99d29370f0"
      },
      "execution_count": 16,
      "outputs": [
        {
          "output_type": "execute_result",
          "data": {
            "text/plain": [
              "             CRIM          ZN       INDUS        CHAS         NOX          RM  \\\n",
              "count  506.000000  506.000000  506.000000  506.000000  506.000000  506.000000   \n",
              "mean     3.613524   11.363636   11.136779    0.069170    0.554695    6.284634   \n",
              "std      8.601545   23.322453    6.860353    0.253994    0.115878    0.702617   \n",
              "min      0.006320    0.000000    0.460000    0.000000    0.385000    3.561000   \n",
              "25%      0.082045    0.000000    5.190000    0.000000    0.449000    5.885500   \n",
              "50%      0.256510    0.000000    9.690000    0.000000    0.538000    6.208500   \n",
              "75%      3.677083   12.500000   18.100000    0.000000    0.624000    6.623500   \n",
              "max     88.976200  100.000000   27.740000    1.000000    0.871000    8.780000   \n",
              "\n",
              "              AGE         DIS         RAD         TAX     PTRATIO           B  \\\n",
              "count  506.000000  506.000000  506.000000  506.000000  506.000000  506.000000   \n",
              "mean    68.574901    3.795043    9.549407  408.237154   18.455534  356.674032   \n",
              "std     28.148861    2.105710    8.707259  168.537116    2.164946   91.294864   \n",
              "min      2.900000    1.129600    1.000000  187.000000   12.600000    0.320000   \n",
              "25%     45.025000    2.100175    4.000000  279.000000   17.400000  375.377500   \n",
              "50%     77.500000    3.207450    5.000000  330.000000   19.050000  391.440000   \n",
              "75%     94.075000    5.188425   24.000000  666.000000   20.200000  396.225000   \n",
              "max    100.000000   12.126500   24.000000  711.000000   22.000000  396.900000   \n",
              "\n",
              "            LSTAT        MEDV  \n",
              "count  506.000000  506.000000  \n",
              "mean    12.653063   22.532806  \n",
              "std      7.141062    9.197104  \n",
              "min      1.730000    5.000000  \n",
              "25%      6.950000   17.025000  \n",
              "50%     11.360000   21.200000  \n",
              "75%     16.955000   25.000000  \n",
              "max     37.970000   50.000000  "
            ],
            "text/html": [
              "\n",
              "  <div id=\"df-fa78ab81-608e-4cfb-9f68-6faa08f1c6f2\">\n",
              "    <div class=\"colab-df-container\">\n",
              "      <div>\n",
              "<style scoped>\n",
              "    .dataframe tbody tr th:only-of-type {\n",
              "        vertical-align: middle;\n",
              "    }\n",
              "\n",
              "    .dataframe tbody tr th {\n",
              "        vertical-align: top;\n",
              "    }\n",
              "\n",
              "    .dataframe thead th {\n",
              "        text-align: right;\n",
              "    }\n",
              "</style>\n",
              "<table border=\"1\" class=\"dataframe\">\n",
              "  <thead>\n",
              "    <tr style=\"text-align: right;\">\n",
              "      <th></th>\n",
              "      <th>CRIM</th>\n",
              "      <th>ZN</th>\n",
              "      <th>INDUS</th>\n",
              "      <th>CHAS</th>\n",
              "      <th>NOX</th>\n",
              "      <th>RM</th>\n",
              "      <th>AGE</th>\n",
              "      <th>DIS</th>\n",
              "      <th>RAD</th>\n",
              "      <th>TAX</th>\n",
              "      <th>PTRATIO</th>\n",
              "      <th>B</th>\n",
              "      <th>LSTAT</th>\n",
              "      <th>MEDV</th>\n",
              "    </tr>\n",
              "  </thead>\n",
              "  <tbody>\n",
              "    <tr>\n",
              "      <th>count</th>\n",
              "      <td>506.000000</td>\n",
              "      <td>506.000000</td>\n",
              "      <td>506.000000</td>\n",
              "      <td>506.000000</td>\n",
              "      <td>506.000000</td>\n",
              "      <td>506.000000</td>\n",
              "      <td>506.000000</td>\n",
              "      <td>506.000000</td>\n",
              "      <td>506.000000</td>\n",
              "      <td>506.000000</td>\n",
              "      <td>506.000000</td>\n",
              "      <td>506.000000</td>\n",
              "      <td>506.000000</td>\n",
              "      <td>506.000000</td>\n",
              "    </tr>\n",
              "    <tr>\n",
              "      <th>mean</th>\n",
              "      <td>3.613524</td>\n",
              "      <td>11.363636</td>\n",
              "      <td>11.136779</td>\n",
              "      <td>0.069170</td>\n",
              "      <td>0.554695</td>\n",
              "      <td>6.284634</td>\n",
              "      <td>68.574901</td>\n",
              "      <td>3.795043</td>\n",
              "      <td>9.549407</td>\n",
              "      <td>408.237154</td>\n",
              "      <td>18.455534</td>\n",
              "      <td>356.674032</td>\n",
              "      <td>12.653063</td>\n",
              "      <td>22.532806</td>\n",
              "    </tr>\n",
              "    <tr>\n",
              "      <th>std</th>\n",
              "      <td>8.601545</td>\n",
              "      <td>23.322453</td>\n",
              "      <td>6.860353</td>\n",
              "      <td>0.253994</td>\n",
              "      <td>0.115878</td>\n",
              "      <td>0.702617</td>\n",
              "      <td>28.148861</td>\n",
              "      <td>2.105710</td>\n",
              "      <td>8.707259</td>\n",
              "      <td>168.537116</td>\n",
              "      <td>2.164946</td>\n",
              "      <td>91.294864</td>\n",
              "      <td>7.141062</td>\n",
              "      <td>9.197104</td>\n",
              "    </tr>\n",
              "    <tr>\n",
              "      <th>min</th>\n",
              "      <td>0.006320</td>\n",
              "      <td>0.000000</td>\n",
              "      <td>0.460000</td>\n",
              "      <td>0.000000</td>\n",
              "      <td>0.385000</td>\n",
              "      <td>3.561000</td>\n",
              "      <td>2.900000</td>\n",
              "      <td>1.129600</td>\n",
              "      <td>1.000000</td>\n",
              "      <td>187.000000</td>\n",
              "      <td>12.600000</td>\n",
              "      <td>0.320000</td>\n",
              "      <td>1.730000</td>\n",
              "      <td>5.000000</td>\n",
              "    </tr>\n",
              "    <tr>\n",
              "      <th>25%</th>\n",
              "      <td>0.082045</td>\n",
              "      <td>0.000000</td>\n",
              "      <td>5.190000</td>\n",
              "      <td>0.000000</td>\n",
              "      <td>0.449000</td>\n",
              "      <td>5.885500</td>\n",
              "      <td>45.025000</td>\n",
              "      <td>2.100175</td>\n",
              "      <td>4.000000</td>\n",
              "      <td>279.000000</td>\n",
              "      <td>17.400000</td>\n",
              "      <td>375.377500</td>\n",
              "      <td>6.950000</td>\n",
              "      <td>17.025000</td>\n",
              "    </tr>\n",
              "    <tr>\n",
              "      <th>50%</th>\n",
              "      <td>0.256510</td>\n",
              "      <td>0.000000</td>\n",
              "      <td>9.690000</td>\n",
              "      <td>0.000000</td>\n",
              "      <td>0.538000</td>\n",
              "      <td>6.208500</td>\n",
              "      <td>77.500000</td>\n",
              "      <td>3.207450</td>\n",
              "      <td>5.000000</td>\n",
              "      <td>330.000000</td>\n",
              "      <td>19.050000</td>\n",
              "      <td>391.440000</td>\n",
              "      <td>11.360000</td>\n",
              "      <td>21.200000</td>\n",
              "    </tr>\n",
              "    <tr>\n",
              "      <th>75%</th>\n",
              "      <td>3.677083</td>\n",
              "      <td>12.500000</td>\n",
              "      <td>18.100000</td>\n",
              "      <td>0.000000</td>\n",
              "      <td>0.624000</td>\n",
              "      <td>6.623500</td>\n",
              "      <td>94.075000</td>\n",
              "      <td>5.188425</td>\n",
              "      <td>24.000000</td>\n",
              "      <td>666.000000</td>\n",
              "      <td>20.200000</td>\n",
              "      <td>396.225000</td>\n",
              "      <td>16.955000</td>\n",
              "      <td>25.000000</td>\n",
              "    </tr>\n",
              "    <tr>\n",
              "      <th>max</th>\n",
              "      <td>88.976200</td>\n",
              "      <td>100.000000</td>\n",
              "      <td>27.740000</td>\n",
              "      <td>1.000000</td>\n",
              "      <td>0.871000</td>\n",
              "      <td>8.780000</td>\n",
              "      <td>100.000000</td>\n",
              "      <td>12.126500</td>\n",
              "      <td>24.000000</td>\n",
              "      <td>711.000000</td>\n",
              "      <td>22.000000</td>\n",
              "      <td>396.900000</td>\n",
              "      <td>37.970000</td>\n",
              "      <td>50.000000</td>\n",
              "    </tr>\n",
              "  </tbody>\n",
              "</table>\n",
              "</div>\n",
              "      <button class=\"colab-df-convert\" onclick=\"convertToInteractive('df-fa78ab81-608e-4cfb-9f68-6faa08f1c6f2')\"\n",
              "              title=\"Convert this dataframe to an interactive table.\"\n",
              "              style=\"display:none;\">\n",
              "        \n",
              "  <svg xmlns=\"http://www.w3.org/2000/svg\" height=\"24px\"viewBox=\"0 0 24 24\"\n",
              "       width=\"24px\">\n",
              "    <path d=\"M0 0h24v24H0V0z\" fill=\"none\"/>\n",
              "    <path d=\"M18.56 5.44l.94 2.06.94-2.06 2.06-.94-2.06-.94-.94-2.06-.94 2.06-2.06.94zm-11 1L8.5 8.5l.94-2.06 2.06-.94-2.06-.94L8.5 2.5l-.94 2.06-2.06.94zm10 10l.94 2.06.94-2.06 2.06-.94-2.06-.94-.94-2.06-.94 2.06-2.06.94z\"/><path d=\"M17.41 7.96l-1.37-1.37c-.4-.4-.92-.59-1.43-.59-.52 0-1.04.2-1.43.59L10.3 9.45l-7.72 7.72c-.78.78-.78 2.05 0 2.83L4 21.41c.39.39.9.59 1.41.59.51 0 1.02-.2 1.41-.59l7.78-7.78 2.81-2.81c.8-.78.8-2.07 0-2.86zM5.41 20L4 18.59l7.72-7.72 1.47 1.35L5.41 20z\"/>\n",
              "  </svg>\n",
              "      </button>\n",
              "      \n",
              "  <style>\n",
              "    .colab-df-container {\n",
              "      display:flex;\n",
              "      flex-wrap:wrap;\n",
              "      gap: 12px;\n",
              "    }\n",
              "\n",
              "    .colab-df-convert {\n",
              "      background-color: #E8F0FE;\n",
              "      border: none;\n",
              "      border-radius: 50%;\n",
              "      cursor: pointer;\n",
              "      display: none;\n",
              "      fill: #1967D2;\n",
              "      height: 32px;\n",
              "      padding: 0 0 0 0;\n",
              "      width: 32px;\n",
              "    }\n",
              "\n",
              "    .colab-df-convert:hover {\n",
              "      background-color: #E2EBFA;\n",
              "      box-shadow: 0px 1px 2px rgba(60, 64, 67, 0.3), 0px 1px 3px 1px rgba(60, 64, 67, 0.15);\n",
              "      fill: #174EA6;\n",
              "    }\n",
              "\n",
              "    [theme=dark] .colab-df-convert {\n",
              "      background-color: #3B4455;\n",
              "      fill: #D2E3FC;\n",
              "    }\n",
              "\n",
              "    [theme=dark] .colab-df-convert:hover {\n",
              "      background-color: #434B5C;\n",
              "      box-shadow: 0px 1px 3px 1px rgba(0, 0, 0, 0.15);\n",
              "      filter: drop-shadow(0px 1px 2px rgba(0, 0, 0, 0.3));\n",
              "      fill: #FFFFFF;\n",
              "    }\n",
              "  </style>\n",
              "\n",
              "      <script>\n",
              "        const buttonEl =\n",
              "          document.querySelector('#df-fa78ab81-608e-4cfb-9f68-6faa08f1c6f2 button.colab-df-convert');\n",
              "        buttonEl.style.display =\n",
              "          google.colab.kernel.accessAllowed ? 'block' : 'none';\n",
              "\n",
              "        async function convertToInteractive(key) {\n",
              "          const element = document.querySelector('#df-fa78ab81-608e-4cfb-9f68-6faa08f1c6f2');\n",
              "          const dataTable =\n",
              "            await google.colab.kernel.invokeFunction('convertToInteractive',\n",
              "                                                     [key], {});\n",
              "          if (!dataTable) return;\n",
              "\n",
              "          const docLinkHtml = 'Like what you see? Visit the ' +\n",
              "            '<a target=\"_blank\" href=https://colab.research.google.com/notebooks/data_table.ipynb>data table notebook</a>'\n",
              "            + ' to learn more about interactive tables.';\n",
              "          element.innerHTML = '';\n",
              "          dataTable['output_type'] = 'display_data';\n",
              "          await google.colab.output.renderOutput(dataTable, element);\n",
              "          const docLink = document.createElement('div');\n",
              "          docLink.innerHTML = docLinkHtml;\n",
              "          element.appendChild(docLink);\n",
              "        }\n",
              "      </script>\n",
              "    </div>\n",
              "  </div>\n",
              "  "
            ]
          },
          "metadata": {},
          "execution_count": 16
        }
      ]
    },
    {
      "cell_type": "code",
      "source": [
        "# Finding out the correlation between the features\n",
        "corr = df.corr()\n",
        "corr.shape"
      ],
      "metadata": {
        "colab": {
          "base_uri": "https://localhost:8080/"
        },
        "id": "nMLbZplGaG-h",
        "outputId": "5143f166-8e10-4578-9b14-afcc8b92d0ae"
      },
      "execution_count": 17,
      "outputs": [
        {
          "output_type": "execute_result",
          "data": {
            "text/plain": [
              "(14, 14)"
            ]
          },
          "metadata": {},
          "execution_count": 17
        }
      ]
    },
    {
      "cell_type": "code",
      "source": [
        "# Plotting the heatmap of correlation between features\n",
        "plt.figure(figsize=(20,20))\n",
        "sns.heatmap(corr, cbar=True, square= True, fmt='.1f', annot=True, annot_kws={'size':15}, cmap='RdBu')"
      ],
      "metadata": {
        "colab": {
          "base_uri": "https://localhost:8080/",
          "height": 1000
        },
        "id": "3KaAt9njESoL",
        "outputId": "6bbb4c6f-d451-431d-9747-75100f9752f6"
      },
      "execution_count": 18,
      "outputs": [
        {
          "output_type": "execute_result",
          "data": {
            "text/plain": [
              "<Axes: >"
            ]
          },
          "metadata": {},
          "execution_count": 18
        },
        {
          "output_type": "display_data",
          "data": {
            "text/plain": [
              "<Figure size 2000x2000 with 2 Axes>"
            ],
            "image/png": "[encoded data removed]"
          },
          "metadata": {}
        }
      ]
    },
    {
      "cell_type": "code",
      "source": [
        "# Spliting target variable and independent variables\n",
        "X = df.drop(['MEDV'], axis = 1)\n",
        "y = df['MEDV']"
      ],
      "metadata": {
        "id": "eAObikKzESr-"
      },
      "execution_count": 19,
      "outputs": []
    },
    {
      "cell_type": "code",
      "source": [
        "\n",
        "\n",
        "#perform normalization \n",
        "mean_data= np.mean(X, axis=0)\n",
        "std_data= np.std(X, axis=0)\n",
        "X= (X- mean_data)/std_data\n"
      ],
      "metadata": {
        "id": "WsPsT95xtmZE"
      },
      "execution_count": 26,
      "outputs": []
    },
    {
      "cell_type": "code",
      "source": [
        "X.describe()"
      ],
      "metadata": {
        "colab": {
          "base_uri": "https://localhost:8080/",
          "height": 451
        },
        "id": "d5WDC4fmtmdM",
        "outputId": "1ddd08ef-dba2-4db0-e11c-694e90082aa3"
      },
      "execution_count": 28,
      "outputs": [
        {
          "output_type": "execute_result",
          "data": {
            "text/plain": [
              "               CRIM            ZN         INDUS          CHAS           NOX  \\\n",
              "count  5.060000e+02  5.060000e+02  5.060000e+02  5.060000e+02  5.060000e+02   \n",
              "mean  -1.123388e-16  7.898820e-17  2.106352e-16 -3.510587e-17 -1.965929e-16   \n",
              "std    1.000990e+00  1.000990e+00  1.000990e+00  1.000990e+00  1.000990e+00   \n",
              "min   -4.197819e-01 -4.877224e-01 -1.557842e+00 -2.725986e-01 -1.465882e+00   \n",
              "25%   -4.109696e-01 -4.877224e-01 -8.676906e-01 -2.725986e-01 -9.130288e-01   \n",
              "50%   -3.906665e-01 -4.877224e-01 -2.110985e-01 -2.725986e-01 -1.442174e-01   \n",
              "75%    7.396560e-03  4.877224e-02  1.015999e+00 -2.725986e-01  5.986790e-01   \n",
              "max    9.933931e+00  3.804234e+00  2.422565e+00  3.668398e+00  2.732346e+00   \n",
              "\n",
              "                 RM           AGE           DIS           RAD         TAX  \\\n",
              "count  5.060000e+02  5.060000e+02  5.060000e+02  5.060000e+02  506.000000   \n",
              "mean  -1.088282e-16 -1.474446e-16 -8.425408e-17 -1.123388e-16    0.000000   \n",
              "std    1.000990e+00  1.000990e+00  1.000990e+00  1.000990e+00    1.000990   \n",
              "min   -3.880249e+00 -2.335437e+00 -1.267069e+00 -9.828429e-01   -1.313990   \n",
              "25%   -5.686303e-01 -8.374480e-01 -8.056878e-01 -6.379618e-01   -0.767576   \n",
              "50%   -1.084655e-01  3.173816e-01 -2.793234e-01 -5.230014e-01   -0.464673   \n",
              "75%    4.827678e-01  9.067981e-01  6.623709e-01  1.661245e+00    1.530926   \n",
              "max    3.555044e+00  1.117494e+00  3.960518e+00  1.661245e+00    1.798194   \n",
              "\n",
              "            PTRATIO             B         LSTAT  \n",
              "count  5.060000e+02  5.060000e+02  5.060000e+02  \n",
              "mean  -4.212704e-16 -7.442444e-16 -3.089316e-16  \n",
              "std    1.000990e+00  1.000990e+00  1.000990e+00  \n",
              "min   -2.707379e+00 -3.907193e+00 -1.531127e+00  \n",
              "25%   -4.880391e-01  2.050715e-01 -7.994200e-01  \n",
              "50%    2.748590e-01  3.811865e-01 -1.812536e-01  \n",
              "75%    8.065758e-01  4.336510e-01  6.030188e-01  \n",
              "max    1.638828e+00  4.410519e-01  3.548771e+00  "
            ],
            "text/html": [
              "\n",
              "  <div id=\"df-69c6b023-671b-4cfa-9ce5-fc30153af0cd\">\n",
              "    <div class=\"colab-df-container\">\n",
              "      <div>\n",
              "<style scoped>\n",
              "    .dataframe tbody tr th:only-of-type {\n",
              "        vertical-align: middle;\n",
              "    }\n",
              "\n",
              "    .dataframe tbody tr th {\n",
              "        vertical-align: top;\n",
              "    }\n",
              "\n",
              "    .dataframe thead th {\n",
              "        text-align: right;\n",
              "    }\n",
              "</style>\n",
              "<table border=\"1\" class=\"dataframe\">\n",
              "  <thead>\n",
              "    <tr style=\"text-align: right;\">\n",
              "      <th></th>\n",
              "      <th>CRIM</th>\n",
              "      <th>ZN</th>\n",
              "      <th>INDUS</th>\n",
              "      <th>CHAS</th>\n",
              "      <th>NOX</th>\n",
              "      <th>RM</th>\n",
              "      <th>AGE</th>\n",
              "      <th>DIS</th>\n",
              "      <th>RAD</th>\n",
              "      <th>TAX</th>\n",
              "      <th>PTRATIO</th>\n",
              "      <th>B</th>\n",
              "      <th>LSTAT</th>\n",
              "    </tr>\n",
              "  </thead>\n",
              "  <tbody>\n",
              "    <tr>\n",
              "      <th>count</th>\n",
              "      <td>5.060000e+02</td>\n",
              "      <td>5.060000e+02</td>\n",
              "      <td>5.060000e+02</td>\n",
              "      <td>5.060000e+02</td>\n",
              "      <td>5.060000e+02</td>\n",
              "      <td>5.060000e+02</td>\n",
              "      <td>5.060000e+02</td>\n",
              "      <td>5.060000e+02</td>\n",
              "      <td>5.060000e+02</td>\n",
              "      <td>506.000000</td>\n",
              "      <td>5.060000e+02</td>\n",
              "      <td>5.060000e+02</td>\n",
              "      <td>5.060000e+02</td>\n",
              "    </tr>\n",
              "    <tr>\n",
              "      <th>mean</th>\n",
              "      <td>-1.123388e-16</td>\n",
              "      <td>7.898820e-17</td>\n",
              "      <td>2.106352e-16</td>\n",
              "      <td>-3.510587e-17</td>\n",
              "      <td>-1.965929e-16</td>\n",
              "      <td>-1.088282e-16</td>\n",
              "      <td>-1.474446e-16</td>\n",
              "      <td>-8.425408e-17</td>\n",
              "      <td>-1.123388e-16</td>\n",
              "      <td>0.000000</td>\n",
              "      <td>-4.212704e-16</td>\n",
              "      <td>-7.442444e-16</td>\n",
              "      <td>-3.089316e-16</td>\n",
              "    </tr>\n",
              "    <tr>\n",
              "      <th>std</th>\n",
              "      <td>1.000990e+00</td>\n",
              "      <td>1.000990e+00</td>\n",
              "      <td>1.000990e+00</td>\n",
              "      <td>1.000990e+00</td>\n",
              "      <td>1.000990e+00</td>\n",
              "      <td>1.000990e+00</td>\n",
              "      <td>1.000990e+00</td>\n",
              "      <td>1.000990e+00</td>\n",
              "      <td>1.000990e+00</td>\n",
              "      <td>1.000990</td>\n",
              "      <td>1.000990e+00</td>\n",
              "      <td>1.000990e+00</td>\n",
              "      <td>1.000990e+00</td>\n",
              "    </tr>\n",
              "    <tr>\n",
              "      <th>min</th>\n",
              "      <td>-4.197819e-01</td>\n",
              "      <td>-4.877224e-01</td>\n",
              "      <td>-1.557842e+00</td>\n",
              "      <td>-2.725986e-01</td>\n",
              "      <td>-1.465882e+00</td>\n",
              "      <td>-3.880249e+00</td>\n",
              "      <td>-2.335437e+00</td>\n",
              "      <td>-1.267069e+00</td>\n",
              "      <td>-9.828429e-01</td>\n",
              "      <td>-1.313990</td>\n",
              "      <td>-2.707379e+00</td>\n",
              "      <td>-3.907193e+00</td>\n",
              "      <td>-1.531127e+00</td>\n",
              "    </tr>\n",
              "    <tr>\n",
              "      <th>25%</th>\n",
              "      <td>-4.109696e-01</td>\n",
              "      <td>-4.877224e-01</td>\n",
              "      <td>-8.676906e-01</td>\n",
              "      <td>-2.725986e-01</td>\n",
              "      <td>-9.130288e-01</td>\n",
              "      <td>-5.686303e-01</td>\n",
              "      <td>-8.374480e-01</td>\n",
              "      <td>-8.056878e-01</td>\n",
              "      <td>-6.379618e-01</td>\n",
              "      <td>-0.767576</td>\n",
              "      <td>-4.880391e-01</td>\n",
              "      <td>2.050715e-01</td>\n",
              "      <td>-7.994200e-01</td>\n",
              "    </tr>\n",
              "    <tr>\n",
              "      <th>50%</th>\n",
              "      <td>-3.906665e-01</td>\n",
              "      <td>-4.877224e-01</td>\n",
              "      <td>-2.110985e-01</td>\n",
              "      <td>-2.725986e-01</td>\n",
              "      <td>-1.442174e-01</td>\n",
              "      <td>-1.084655e-01</td>\n",
              "      <td>3.173816e-01</td>\n",
              "      <td>-2.793234e-01</td>\n",
              "      <td>-5.230014e-01</td>\n",
              "      <td>-0.464673</td>\n",
              "      <td>2.748590e-01</td>\n",
              "      <td>3.811865e-01</td>\n",
              "      <td>-1.812536e-01</td>\n",
              "    </tr>\n",
              "    <tr>\n",
              "      <th>75%</th>\n",
              "      <td>7.396560e-03</td>\n",
              "      <td>4.877224e-02</td>\n",
              "      <td>1.015999e+00</td>\n",
              "      <td>-2.725986e-01</td>\n",
              "      <td>5.986790e-01</td>\n",
              "      <td>4.827678e-01</td>\n",
              "      <td>9.067981e-01</td>\n",
              "      <td>6.623709e-01</td>\n",
              "      <td>1.661245e+00</td>\n",
              "      <td>1.530926</td>\n",
              "      <td>8.065758e-01</td>\n",
              "      <td>4.336510e-01</td>\n",
              "      <td>6.030188e-01</td>\n",
              "    </tr>\n",
              "    <tr>\n",
              "      <th>max</th>\n",
              "      <td>9.933931e+00</td>\n",
              "      <td>3.804234e+00</td>\n",
              "      <td>2.422565e+00</td>\n",
              "      <td>3.668398e+00</td>\n",
              "      <td>2.732346e+00</td>\n",
              "      <td>3.555044e+00</td>\n",
              "      <td>1.117494e+00</td>\n",
              "      <td>3.960518e+00</td>\n",
              "      <td>1.661245e+00</td>\n",
              "      <td>1.798194</td>\n",
              "      <td>1.638828e+00</td>\n",
              "      <td>4.410519e-01</td>\n",
              "      <td>3.548771e+00</td>\n",
              "    </tr>\n",
              "  </tbody>\n",
              "</table>\n",
              "</div>\n",
              "      <button class=\"colab-df-convert\" onclick=\"convertToInteractive('df-69c6b023-671b-4cfa-9ce5-fc30153af0cd')\"\n",
              "              title=\"Convert this dataframe to an interactive table.\"\n",
              "              style=\"display:none;\">\n",
              "        \n",
              "  <svg xmlns=\"http://www.w3.org/2000/svg\" height=\"24px\"viewBox=\"0 0 24 24\"\n",
              "       width=\"24px\">\n",
              "    <path d=\"M0 0h24v24H0V0z\" fill=\"none\"/>\n",
              "    <path d=\"M18.56 5.44l.94 2.06.94-2.06 2.06-.94-2.06-.94-.94-2.06-.94 2.06-2.06.94zm-11 1L8.5 8.5l.94-2.06 2.06-.94-2.06-.94L8.5 2.5l-.94 2.06-2.06.94zm10 10l.94 2.06.94-2.06 2.06-.94-2.06-.94-.94-2.06-.94 2.06-2.06.94z\"/><path d=\"M17.41 7.96l-1.37-1.37c-.4-.4-.92-.59-1.43-.59-.52 0-1.04.2-1.43.59L10.3 9.45l-7.72 7.72c-.78.78-.78 2.05 0 2.83L4 21.41c.39.39.9.59 1.41.59.51 0 1.02-.2 1.41-.59l7.78-7.78 2.81-2.81c.8-.78.8-2.07 0-2.86zM5.41 20L4 18.59l7.72-7.72 1.47 1.35L5.41 20z\"/>\n",
              "  </svg>\n",
              "      </button>\n",
              "      \n",
              "  <style>\n",
              "    .colab-df-container {\n",
              "      display:flex;\n",
              "      flex-wrap:wrap;\n",
              "      gap: 12px;\n",
              "    }\n",
              "\n",
              "    .colab-df-convert {\n",
              "      background-color: #E8F0FE;\n",
              "      border: none;\n",
              "      border-radius: 50%;\n",
              "      cursor: pointer;\n",
              "      display: none;\n",
              "      fill: #1967D2;\n",
              "      height: 32px;\n",
              "      padding: 0 0 0 0;\n",
              "      width: 32px;\n",
              "    }\n",
              "\n",
              "    .colab-df-convert:hover {\n",
              "      background-color: #E2EBFA;\n",
              "      box-shadow: 0px 1px 2px rgba(60, 64, 67, 0.3), 0px 1px 3px 1px rgba(60, 64, 67, 0.15);\n",
              "      fill: #174EA6;\n",
              "    }\n",
              "\n",
              "    [theme=dark] .colab-df-convert {\n",
              "      background-color: #3B4455;\n",
              "      fill: #D2E3FC;\n",
              "    }\n",
              "\n",
              "    [theme=dark] .colab-df-convert:hover {\n",
              "      background-color: #434B5C;\n",
              "      box-shadow: 0px 1px 3px 1px rgba(0, 0, 0, 0.15);\n",
              "      filter: drop-shadow(0px 1px 2px rgba(0, 0, 0, 0.3));\n",
              "      fill: #FFFFFF;\n",
              "    }\n",
              "  </style>\n",
              "\n",
              "      <script>\n",
              "        const buttonEl =\n",
              "          document.querySelector('#df-69c6b023-671b-4cfa-9ce5-fc30153af0cd button.colab-df-convert');\n",
              "        buttonEl.style.display =\n",
              "          google.colab.kernel.accessAllowed ? 'block' : 'none';\n",
              "\n",
              "        async function convertToInteractive(key) {\n",
              "          const element = document.querySelector('#df-69c6b023-671b-4cfa-9ce5-fc30153af0cd');\n",
              "          const dataTable =\n",
              "            await google.colab.kernel.invokeFunction('convertToInteractive',\n",
              "                                                     [key], {});\n",
              "          if (!dataTable) return;\n",
              "\n",
              "          const docLinkHtml = 'Like what you see? Visit the ' +\n",
              "            '<a target=\"_blank\" href=https://colab.research.google.com/notebooks/data_table.ipynb>data table notebook</a>'\n",
              "            + ' to learn more about interactive tables.';\n",
              "          element.innerHTML = '';\n",
              "          dataTable['output_type'] = 'display_data';\n",
              "          await google.colab.output.renderOutput(dataTable, element);\n",
              "          const docLink = document.createElement('div');\n",
              "          docLink.innerHTML = docLinkHtml;\n",
              "          element.appendChild(docLink);\n",
              "        }\n",
              "      </script>\n",
              "    </div>\n",
              "  </div>\n",
              "  "
            ]
          },
          "metadata": {},
          "execution_count": 28
        }
      ]
    },
    {
      "cell_type": "code",
      "source": [
        "# Splitting to training and testing data\n",
        "\n",
        "from sklearn.model_selection import train_test_split\n",
        "X_train, X_test, y_train, y_test = train_test_split(X,y, test_size = 0.3, random_state = 4)"
      ],
      "metadata": {
        "id": "H1UUsuaXbN1R"
      },
      "execution_count": 29,
      "outputs": []
    },
    {
      "cell_type": "code",
      "source": [
        "X_train.describe()"
      ],
      "metadata": {
        "colab": {
          "base_uri": "https://localhost:8080/",
          "height": 364
        },
        "id": "2BhH1Uu-bN5D",
        "outputId": "02c9d0f5-9b52-44a4-95ed-8ff368c65b18"
      },
      "execution_count": 30,
      "outputs": [
        {
          "output_type": "execute_result",
          "data": {
            "text/plain": [
              "             CRIM          ZN       INDUS        CHAS         NOX          RM  \\\n",
              "count  354.000000  354.000000  354.000000  354.000000  354.000000  354.000000   \n",
              "mean     0.024364   -0.021002   -0.012662   -0.072209    0.016265   -0.053797   \n",
              "std      1.033251    0.992805    1.004016    0.867008    1.011992    0.942675   \n",
              "min     -0.419782   -0.487722   -1.516987   -0.272599   -1.465882   -3.880249   \n",
              "25%     -0.411350   -0.487722   -0.876445   -0.272599   -0.913029   -0.568274   \n",
              "50%     -0.390099   -0.487722   -0.293537   -0.272599   -0.144217   -0.129123   \n",
              "75%      0.043955   -0.085351    1.015999   -0.272599    0.659147    0.438247   \n",
              "max      9.933931    3.804234    2.422565    3.668398    2.732346    3.010825   \n",
              "\n",
              "              AGE         DIS         RAD         TAX     PTRATIO           B  \\\n",
              "count  354.000000  354.000000  354.000000  354.000000  354.000000  354.000000   \n",
              "mean     0.003052    0.005410    0.025496    0.028405    0.015074   -0.001429   \n",
              "std      0.984396    1.020166    1.019690    1.011703    1.006192    1.002757   \n",
              "min     -2.335437   -1.267069   -0.982843   -1.313990   -2.707379   -3.907193   \n",
              "25%     -0.816112   -0.802039   -0.637962   -0.764606   -0.488039    0.210937   \n",
              "50%      0.281821   -0.287167   -0.523001   -0.434976    0.297977    0.381570   \n",
              "75%      0.895241    0.628739    1.661245    1.530926    0.806576    0.434062   \n",
              "max      1.117494    3.960518    1.661245    1.798194    1.638828    0.441052   \n",
              "\n",
              "            LSTAT  \n",
              "count  354.000000  \n",
              "mean     0.016558  \n",
              "std      0.994426  \n",
              "min     -1.531127  \n",
              "25%     -0.753163  \n",
              "50%     -0.188262  \n",
              "75%      0.617387  \n",
              "max      3.409999  "
            ],
            "text/html": [
              "\n",
              "  <div id=\"df-b8cf4800-8be8-4506-98cf-b22e0a613340\">\n",
              "    <div class=\"colab-df-container\">\n",
              "      <div>\n",
              "<style scoped>\n",
              "    .dataframe tbody tr th:only-of-type {\n",
              "        vertical-align: middle;\n",
              "    }\n",
              "\n",
              "    .dataframe tbody tr th {\n",
              "        vertical-align: top;\n",
              "    }\n",
              "\n",
              "    .dataframe thead th {\n",
              "        text-align: right;\n",
              "    }\n",
              "</style>\n",
              "<table border=\"1\" class=\"dataframe\">\n",
              "  <thead>\n",
              "    <tr style=\"text-align: right;\">\n",
              "      <th></th>\n",
              "      <th>CRIM</th>\n",
              "      <th>ZN</th>\n",
              "      <th>INDUS</th>\n",
              "      <th>CHAS</th>\n",
              "      <th>NOX</th>\n",
              "      <th>RM</th>\n",
              "      <th>AGE</th>\n",
              "      <th>DIS</th>\n",
              "      <th>RAD</th>\n",
              "      <th>TAX</th>\n",
              "      <th>PTRATIO</th>\n",
              "      <th>B</th>\n",
              "      <th>LSTAT</th>\n",
              "    </tr>\n",
              "  </thead>\n",
              "  <tbody>\n",
              "    <tr>\n",
              "      <th>count</th>\n",
              "      <td>354.000000</td>\n",
              "      <td>354.000000</td>\n",
              "      <td>354.000000</td>\n",
              "      <td>354.000000</td>\n",
              "      <td>354.000000</td>\n",
              "      <td>354.000000</td>\n",
              "      <td>354.000000</td>\n",
              "      <td>354.000000</td>\n",
              "      <td>354.000000</td>\n",
              "      <td>354.000000</td>\n",
              "      <td>354.000000</td>\n",
              "      <td>354.000000</td>\n",
              "      <td>354.000000</td>\n",
              "    </tr>\n",
              "    <tr>\n",
              "      <th>mean</th>\n",
              "      <td>0.024364</td>\n",
              "      <td>-0.021002</td>\n",
              "      <td>-0.012662</td>\n",
              "      <td>-0.072209</td>\n",
              "      <td>0.016265</td>\n",
              "      <td>-0.053797</td>\n",
              "      <td>0.003052</td>\n",
              "      <td>0.005410</td>\n",
              "      <td>0.025496</td>\n",
              "      <td>0.028405</td>\n",
              "      <td>0.015074</td>\n",
              "      <td>-0.001429</td>\n",
              "      <td>0.016558</td>\n",
              "    </tr>\n",
              "    <tr>\n",
              "      <th>std</th>\n",
              "      <td>1.033251</td>\n",
              "      <td>0.992805</td>\n",
              "      <td>1.004016</td>\n",
              "      <td>0.867008</td>\n",
              "      <td>1.011992</td>\n",
              "      <td>0.942675</td>\n",
              "      <td>0.984396</td>\n",
              "      <td>1.020166</td>\n",
              "      <td>1.019690</td>\n",
              "      <td>1.011703</td>\n",
              "      <td>1.006192</td>\n",
              "      <td>1.002757</td>\n",
              "      <td>0.994426</td>\n",
              "    </tr>\n",
              "    <tr>\n",
              "      <th>min</th>\n",
              "      <td>-0.419782</td>\n",
              "      <td>-0.487722</td>\n",
              "      <td>-1.516987</td>\n",
              "      <td>-0.272599</td>\n",
              "      <td>-1.465882</td>\n",
              "      <td>-3.880249</td>\n",
              "      <td>-2.335437</td>\n",
              "      <td>-1.267069</td>\n",
              "      <td>-0.982843</td>\n",
              "      <td>-1.313990</td>\n",
              "      <td>-2.707379</td>\n",
              "      <td>-3.907193</td>\n",
              "      <td>-1.531127</td>\n",
              "    </tr>\n",
              "    <tr>\n",
              "      <th>25%</th>\n",
              "      <td>-0.411350</td>\n",
              "      <td>-0.487722</td>\n",
              "      <td>-0.876445</td>\n",
              "      <td>-0.272599</td>\n",
              "      <td>-0.913029</td>\n",
              "      <td>-0.568274</td>\n",
              "      <td>-0.816112</td>\n",
              "      <td>-0.802039</td>\n",
              "      <td>-0.637962</td>\n",
              "      <td>-0.764606</td>\n",
              "      <td>-0.488039</td>\n",
              "      <td>0.210937</td>\n",
              "      <td>-0.753163</td>\n",
              "    </tr>\n",
              "    <tr>\n",
              "      <th>50%</th>\n",
              "      <td>-0.390099</td>\n",
              "      <td>-0.487722</td>\n",
              "      <td>-0.293537</td>\n",
              "      <td>-0.272599</td>\n",
              "      <td>-0.144217</td>\n",
              "      <td>-0.129123</td>\n",
              "      <td>0.281821</td>\n",
              "      <td>-0.287167</td>\n",
              "      <td>-0.523001</td>\n",
              "      <td>-0.434976</td>\n",
              "      <td>0.297977</td>\n",
              "      <td>0.381570</td>\n",
              "      <td>-0.188262</td>\n",
              "    </tr>\n",
              "    <tr>\n",
              "      <th>75%</th>\n",
              "      <td>0.043955</td>\n",
              "      <td>-0.085351</td>\n",
              "      <td>1.015999</td>\n",
              "      <td>-0.272599</td>\n",
              "      <td>0.659147</td>\n",
              "      <td>0.438247</td>\n",
              "      <td>0.895241</td>\n",
              "      <td>0.628739</td>\n",
              "      <td>1.661245</td>\n",
              "      <td>1.530926</td>\n",
              "      <td>0.806576</td>\n",
              "      <td>0.434062</td>\n",
              "      <td>0.617387</td>\n",
              "    </tr>\n",
              "    <tr>\n",
              "      <th>max</th>\n",
              "      <td>9.933931</td>\n",
              "      <td>3.804234</td>\n",
              "      <td>2.422565</td>\n",
              "      <td>3.668398</td>\n",
              "      <td>2.732346</td>\n",
              "      <td>3.010825</td>\n",
              "      <td>1.117494</td>\n",
              "      <td>3.960518</td>\n",
              "      <td>1.661245</td>\n",
              "      <td>1.798194</td>\n",
              "      <td>1.638828</td>\n",
              "      <td>0.441052</td>\n",
              "      <td>3.409999</td>\n",
              "    </tr>\n",
              "  </tbody>\n",
              "</table>\n",
              "</div>\n",
              "      <button class=\"colab-df-convert\" onclick=\"convertToInteractive('df-b8cf4800-8be8-4506-98cf-b22e0a613340')\"\n",
              "              title=\"Convert this dataframe to an interactive table.\"\n",
              "              style=\"display:none;\">\n",
              "        \n",
              "  <svg xmlns=\"http://www.w3.org/2000/svg\" height=\"24px\"viewBox=\"0 0 24 24\"\n",
              "       width=\"24px\">\n",
              "    <path d=\"M0 0h24v24H0V0z\" fill=\"none\"/>\n",
              "    <path d=\"M18.56 5.44l.94 2.06.94-2.06 2.06-.94-2.06-.94-.94-2.06-.94 2.06-2.06.94zm-11 1L8.5 8.5l.94-2.06 2.06-.94-2.06-.94L8.5 2.5l-.94 2.06-2.06.94zm10 10l.94 2.06.94-2.06 2.06-.94-2.06-.94-.94-2.06-.94 2.06-2.06.94z\"/><path d=\"M17.41 7.96l-1.37-1.37c-.4-.4-.92-.59-1.43-.59-.52 0-1.04.2-1.43.59L10.3 9.45l-7.72 7.72c-.78.78-.78 2.05 0 2.83L4 21.41c.39.39.9.59 1.41.59.51 0 1.02-.2 1.41-.59l7.78-7.78 2.81-2.81c.8-.78.8-2.07 0-2.86zM5.41 20L4 18.59l7.72-7.72 1.47 1.35L5.41 20z\"/>\n",
              "  </svg>\n",
              "      </button>\n",
              "      \n",
              "  <style>\n",
              "    .colab-df-container {\n",
              "      display:flex;\n",
              "      flex-wrap:wrap;\n",
              "      gap: 12px;\n",
              "    }\n",
              "\n",
              "    .colab-df-convert {\n",
              "      background-color: #E8F0FE;\n",
              "      border: none;\n",
              "      border-radius: 50%;\n",
              "      cursor: pointer;\n",
              "      display: none;\n",
              "      fill: #1967D2;\n",
              "      height: 32px;\n",
              "      padding: 0 0 0 0;\n",
              "      width: 32px;\n",
              "    }\n",
              "\n",
              "    .colab-df-convert:hover {\n",
              "      background-color: #E2EBFA;\n",
              "      box-shadow: 0px 1px 2px rgba(60, 64, 67, 0.3), 0px 1px 3px 1px rgba(60, 64, 67, 0.15);\n",
              "      fill: #174EA6;\n",
              "    }\n",
              "\n",
              "    [theme=dark] .colab-df-convert {\n",
              "      background-color: #3B4455;\n",
              "      fill: #D2E3FC;\n",
              "    }\n",
              "\n",
              "    [theme=dark] .colab-df-convert:hover {\n",
              "      background-color: #434B5C;\n",
              "      box-shadow: 0px 1px 3px 1px rgba(0, 0, 0, 0.15);\n",
              "      filter: drop-shadow(0px 1px 2px rgba(0, 0, 0, 0.3));\n",
              "      fill: #FFFFFF;\n",
              "    }\n",
              "  </style>\n",
              "\n",
              "      <script>\n",
              "        const buttonEl =\n",
              "          document.querySelector('#df-b8cf4800-8be8-4506-98cf-b22e0a613340 button.colab-df-convert');\n",
              "        buttonEl.style.display =\n",
              "          google.colab.kernel.accessAllowed ? 'block' : 'none';\n",
              "\n",
              "        async function convertToInteractive(key) {\n",
              "          const element = document.querySelector('#df-b8cf4800-8be8-4506-98cf-b22e0a613340');\n",
              "          const dataTable =\n",
              "            await google.colab.kernel.invokeFunction('convertToInteractive',\n",
              "                                                     [key], {});\n",
              "          if (!dataTable) return;\n",
              "\n",
              "          const docLinkHtml = 'Like what you see? Visit the ' +\n",
              "            '<a target=\"_blank\" href=https://colab.research.google.com/notebooks/data_table.ipynb>data table notebook</a>'\n",
              "            + ' to learn more about interactive tables.';\n",
              "          element.innerHTML = '';\n",
              "          dataTable['output_type'] = 'display_data';\n",
              "          await google.colab.output.renderOutput(dataTable, element);\n",
              "          const docLink = document.createElement('div');\n",
              "          docLink.innerHTML = docLinkHtml;\n",
              "          element.appendChild(docLink);\n",
              "        }\n",
              "      </script>\n",
              "    </div>\n",
              "  </div>\n",
              "  "
            ]
          },
          "metadata": {},
          "execution_count": 30
        }
      ]
    },
    {
      "cell_type": "code",
      "source": [
        "X_test.describe()"
      ],
      "metadata": {
        "colab": {
          "base_uri": "https://localhost:8080/",
          "height": 364
        },
        "id": "9RqKylkxbOA4",
        "outputId": "5f422fe1-1695-4a7d-90f7-2a66bb38aecf"
      },
      "execution_count": 31,
      "outputs": [
        {
          "output_type": "execute_result",
          "data": {
            "text/plain": [
              "             CRIM          ZN       INDUS        CHAS         NOX          RM  \\\n",
              "count  152.000000  152.000000  152.000000  152.000000  152.000000  152.000000   \n",
              "mean    -0.056743    0.048913    0.029489    0.168171   -0.037881    0.125291   \n",
              "std      0.922259    1.021431    0.996584    1.246198    0.977125    1.118480   \n",
              "min     -0.419003   -0.487722   -1.557842   -0.272599   -1.405414   -3.058221   \n",
              "25%     -0.409882   -0.487722   -0.789629   -0.272599   -0.921667   -0.569343   \n",
              "50%     -0.391714   -0.487722   -0.180458   -0.272599   -0.204686   -0.027972   \n",
              "75%     -0.130048    0.370669    1.015999   -0.272599    0.533891    0.630220   \n",
              "max      8.136884    3.589637    2.422565    3.668398    2.732346    3.555044   \n",
              "\n",
              "              AGE         DIS         RAD         TAX     PTRATIO           B  \\\n",
              "count  152.000000  152.000000  152.000000  152.000000  152.000000  152.000000   \n",
              "mean    -0.007109   -0.012598   -0.059378   -0.066155   -0.035106    0.003328   \n",
              "std      1.041903    0.958009    0.956665    0.975659    0.991176    1.000161   \n",
              "min     -2.203863   -1.263551   -0.982843   -1.308051   -2.522434   -3.883072   \n",
              "25%     -0.921904   -0.834353   -0.637962   -0.779455   -0.719220    0.202851   \n",
              "50%      0.418729   -0.240319   -0.523001   -0.577519    0.136150    0.378939   \n",
              "75%      0.929023    0.689336   -0.178120    0.170831    0.806576    0.433541   \n",
              "max      1.117494    2.580236    1.661245    1.798194    1.268938    0.441052   \n",
              "\n",
              "            LSTAT  \n",
              "count  152.000000  \n",
              "mean    -0.038562  \n",
              "std      1.018379  \n",
              "min     -1.427399  \n",
              "25%     -0.927679  \n",
              "50%     -0.132894  \n",
              "75%      0.523821  \n",
              "max      3.548771  "
            ],
            "text/html": [
              "\n",
              "  <div id=\"df-5508b847-0a94-4179-94e8-256da0f89678\">\n",
              "    <div class=\"colab-df-container\">\n",
              "      <div>\n",
              "<style scoped>\n",
              "    .dataframe tbody tr th:only-of-type {\n",
              "        vertical-align: middle;\n",
              "    }\n",
              "\n",
              "    .dataframe tbody tr th {\n",
              "        vertical-align: top;\n",
              "    }\n",
              "\n",
              "    .dataframe thead th {\n",
              "        text-align: right;\n",
              "    }\n",
              "</style>\n",
              "<table border=\"1\" class=\"dataframe\">\n",
              "  <thead>\n",
              "    <tr style=\"text-align: right;\">\n",
              "      <th></th>\n",
              "      <th>CRIM</th>\n",
              "      <th>ZN</th>\n",
              "      <th>INDUS</th>\n",
              "      <th>CHAS</th>\n",
              "      <th>NOX</th>\n",
              "      <th>RM</th>\n",
              "      <th>AGE</th>\n",
              "      <th>DIS</th>\n",
              "      <th>RAD</th>\n",
              "      <th>TAX</th>\n",
              "      <th>PTRATIO</th>\n",
              "      <th>B</th>\n",
              "      <th>LSTAT</th>\n",
              "    </tr>\n",
              "  </thead>\n",
              "  <tbody>\n",
              "    <tr>\n",
              "      <th>count</th>\n",
              "      <td>152.000000</td>\n",
              "      <td>152.000000</td>\n",
              "      <td>152.000000</td>\n",
              "      <td>152.000000</td>\n",
              "      <td>152.000000</td>\n",
              "      <td>152.000000</td>\n",
              "      <td>152.000000</td>\n",
              "      <td>152.000000</td>\n",
              "      <td>152.000000</td>\n",
              "      <td>152.000000</td>\n",
              "      <td>152.000000</td>\n",
              "      <td>152.000000</td>\n",
              "      <td>152.000000</td>\n",
              "    </tr>\n",
              "    <tr>\n",
              "      <th>mean</th>\n",
              "      <td>-0.056743</td>\n",
              "      <td>0.048913</td>\n",
              "      <td>0.029489</td>\n",
              "      <td>0.168171</td>\n",
              "      <td>-0.037881</td>\n",
              "      <td>0.125291</td>\n",
              "      <td>-0.007109</td>\n",
              "      <td>-0.012598</td>\n",
              "      <td>-0.059378</td>\n",
              "      <td>-0.066155</td>\n",
              "      <td>-0.035106</td>\n",
              "      <td>0.003328</td>\n",
              "      <td>-0.038562</td>\n",
              "    </tr>\n",
              "    <tr>\n",
              "      <th>std</th>\n",
              "      <td>0.922259</td>\n",
              "      <td>1.021431</td>\n",
              "      <td>0.996584</td>\n",
              "      <td>1.246198</td>\n",
              "      <td>0.977125</td>\n",
              "      <td>1.118480</td>\n",
              "      <td>1.041903</td>\n",
              "      <td>0.958009</td>\n",
              "      <td>0.956665</td>\n",
              "      <td>0.975659</td>\n",
              "      <td>0.991176</td>\n",
              "      <td>1.000161</td>\n",
              "      <td>1.018379</td>\n",
              "    </tr>\n",
              "    <tr>\n",
              "      <th>min</th>\n",
              "      <td>-0.419003</td>\n",
              "      <td>-0.487722</td>\n",
              "      <td>-1.557842</td>\n",
              "      <td>-0.272599</td>\n",
              "      <td>-1.405414</td>\n",
              "      <td>-3.058221</td>\n",
              "      <td>-2.203863</td>\n",
              "      <td>-1.263551</td>\n",
              "      <td>-0.982843</td>\n",
              "      <td>-1.308051</td>\n",
              "      <td>-2.522434</td>\n",
              "      <td>-3.883072</td>\n",
              "      <td>-1.427399</td>\n",
              "    </tr>\n",
              "    <tr>\n",
              "      <th>25%</th>\n",
              "      <td>-0.409882</td>\n",
              "      <td>-0.487722</td>\n",
              "      <td>-0.789629</td>\n",
              "      <td>-0.272599</td>\n",
              "      <td>-0.921667</td>\n",
              "      <td>-0.569343</td>\n",
              "      <td>-0.921904</td>\n",
              "      <td>-0.834353</td>\n",
              "      <td>-0.637962</td>\n",
              "      <td>-0.779455</td>\n",
              "      <td>-0.719220</td>\n",
              "      <td>0.202851</td>\n",
              "      <td>-0.927679</td>\n",
              "    </tr>\n",
              "    <tr>\n",
              "      <th>50%</th>\n",
              "      <td>-0.391714</td>\n",
              "      <td>-0.487722</td>\n",
              "      <td>-0.180458</td>\n",
              "      <td>-0.272599</td>\n",
              "      <td>-0.204686</td>\n",
              "      <td>-0.027972</td>\n",
              "      <td>0.418729</td>\n",
              "      <td>-0.240319</td>\n",
              "      <td>-0.523001</td>\n",
              "      <td>-0.577519</td>\n",
              "      <td>0.136150</td>\n",
              "      <td>0.378939</td>\n",
              "      <td>-0.132894</td>\n",
              "    </tr>\n",
              "    <tr>\n",
              "      <th>75%</th>\n",
              "      <td>-0.130048</td>\n",
              "      <td>0.370669</td>\n",
              "      <td>1.015999</td>\n",
              "      <td>-0.272599</td>\n",
              "      <td>0.533891</td>\n",
              "      <td>0.630220</td>\n",
              "      <td>0.929023</td>\n",
              "      <td>0.689336</td>\n",
              "      <td>-0.178120</td>\n",
              "      <td>0.170831</td>\n",
              "      <td>0.806576</td>\n",
              "      <td>0.433541</td>\n",
              "      <td>0.523821</td>\n",
              "    </tr>\n",
              "    <tr>\n",
              "      <th>max</th>\n",
              "      <td>8.136884</td>\n",
              "      <td>3.589637</td>\n",
              "      <td>2.422565</td>\n",
              "      <td>3.668398</td>\n",
              "      <td>2.732346</td>\n",
              "      <td>3.555044</td>\n",
              "      <td>1.117494</td>\n",
              "      <td>2.580236</td>\n",
              "      <td>1.661245</td>\n",
              "      <td>1.798194</td>\n",
              "      <td>1.268938</td>\n",
              "      <td>0.441052</td>\n",
              "      <td>3.548771</td>\n",
              "    </tr>\n",
              "  </tbody>\n",
              "</table>\n",
              "</div>\n",
              "      <button class=\"colab-df-convert\" onclick=\"convertToInteractive('df-5508b847-0a94-4179-94e8-256da0f89678')\"\n",
              "              title=\"Convert this dataframe to an interactive table.\"\n",
              "              style=\"display:none;\">\n",
              "        \n",
              "  <svg xmlns=\"http://www.w3.org/2000/svg\" height=\"24px\"viewBox=\"0 0 24 24\"\n",
              "       width=\"24px\">\n",
              "    <path d=\"M0 0h24v24H0V0z\" fill=\"none\"/>\n",
              "    <path d=\"M18.56 5.44l.94 2.06.94-2.06 2.06-.94-2.06-.94-.94-2.06-.94 2.06-2.06.94zm-11 1L8.5 8.5l.94-2.06 2.06-.94-2.06-.94L8.5 2.5l-.94 2.06-2.06.94zm10 10l.94 2.06.94-2.06 2.06-.94-2.06-.94-.94-2.06-.94 2.06-2.06.94z\"/><path d=\"M17.41 7.96l-1.37-1.37c-.4-.4-.92-.59-1.43-.59-.52 0-1.04.2-1.43.59L10.3 9.45l-7.72 7.72c-.78.78-.78 2.05 0 2.83L4 21.41c.39.39.9.59 1.41.59.51 0 1.02-.2 1.41-.59l7.78-7.78 2.81-2.81c.8-.78.8-2.07 0-2.86zM5.41 20L4 18.59l7.72-7.72 1.47 1.35L5.41 20z\"/>\n",
              "  </svg>\n",
              "      </button>\n",
              "      \n",
              "  <style>\n",
              "    .colab-df-container {\n",
              "      display:flex;\n",
              "      flex-wrap:wrap;\n",
              "      gap: 12px;\n",
              "    }\n",
              "\n",
              "    .colab-df-convert {\n",
              "      background-color: #E8F0FE;\n",
              "      border: none;\n",
              "      border-radius: 50%;\n",
              "      cursor: pointer;\n",
              "      display: none;\n",
              "      fill: #1967D2;\n",
              "      height: 32px;\n",
              "      padding: 0 0 0 0;\n",
              "      width: 32px;\n",
              "    }\n",
              "\n",
              "    .colab-df-convert:hover {\n",
              "      background-color: #E2EBFA;\n",
              "      box-shadow: 0px 1px 2px rgba(60, 64, 67, 0.3), 0px 1px 3px 1px rgba(60, 64, 67, 0.15);\n",
              "      fill: #174EA6;\n",
              "    }\n",
              "\n",
              "    [theme=dark] .colab-df-convert {\n",
              "      background-color: #3B4455;\n",
              "      fill: #D2E3FC;\n",
              "    }\n",
              "\n",
              "    [theme=dark] .colab-df-convert:hover {\n",
              "      background-color: #434B5C;\n",
              "      box-shadow: 0px 1px 3px 1px rgba(0, 0, 0, 0.15);\n",
              "      filter: drop-shadow(0px 1px 2px rgba(0, 0, 0, 0.3));\n",
              "      fill: #FFFFFF;\n",
              "    }\n",
              "  </style>\n",
              "\n",
              "      <script>\n",
              "        const buttonEl =\n",
              "          document.querySelector('#df-5508b847-0a94-4179-94e8-256da0f89678 button.colab-df-convert');\n",
              "        buttonEl.style.display =\n",
              "          google.colab.kernel.accessAllowed ? 'block' : 'none';\n",
              "\n",
              "        async function convertToInteractive(key) {\n",
              "          const element = document.querySelector('#df-5508b847-0a94-4179-94e8-256da0f89678');\n",
              "          const dataTable =\n",
              "            await google.colab.kernel.invokeFunction('convertToInteractive',\n",
              "                                                     [key], {});\n",
              "          if (!dataTable) return;\n",
              "\n",
              "          const docLinkHtml = 'Like what you see? Visit the ' +\n",
              "            '<a target=\"_blank\" href=https://colab.research.google.com/notebooks/data_table.ipynb>data table notebook</a>'\n",
              "            + ' to learn more about interactive tables.';\n",
              "          element.innerHTML = '';\n",
              "          dataTable['output_type'] = 'display_data';\n",
              "          await google.colab.output.renderOutput(dataTable, element);\n",
              "          const docLink = document.createElement('div');\n",
              "          docLink.innerHTML = docLinkHtml;\n",
              "          element.appendChild(docLink);\n",
              "        }\n",
              "      </script>\n",
              "    </div>\n",
              "  </div>\n",
              "  "
            ]
          },
          "metadata": {},
          "execution_count": 31
        }
      ]
    },
    {
      "cell_type": "code",
      "source": [
        "print(X_train.shape)\n",
        "print(y_train.shape)"
      ],
      "metadata": {
        "colab": {
          "base_uri": "https://localhost:8080/"
        },
        "id": "OoYv7B6Vm1YY",
        "outputId": "d4510e1d-781e-4f0a-e963-cfd00557fe87"
      },
      "execution_count": 32,
      "outputs": [
        {
          "output_type": "stream",
          "name": "stdout",
          "text": [
            "(354, 13)\n",
            "(354,)\n"
          ]
        }
      ]
    },
    {
      "cell_type": "code",
      "source": [
        "#Converting dataframe into numpy array\n",
        "y_train = np.array(y_train)\n",
        "X_train = X_train.to_numpy()\n",
        "\n",
        "y_test = np.array(y_test)\n",
        "X_test = X_test.to_numpy()"
      ],
      "metadata": {
        "id": "0w1YJ7-um1g3"
      },
      "execution_count": 33,
      "outputs": []
    },
    {
      "cell_type": "code",
      "source": [
        "X_train.shape"
      ],
      "metadata": {
        "colab": {
          "base_uri": "https://localhost:8080/"
        },
        "id": "-3oIMcEym1ko",
        "outputId": "13293151-b26e-433f-c03f-da7600971d95"
      },
      "execution_count": 34,
      "outputs": [
        {
          "output_type": "execute_result",
          "data": {
            "text/plain": [
              "(354, 13)"
            ]
          },
          "metadata": {},
          "execution_count": 34
        }
      ]
    },
    {
      "cell_type": "code",
      "source": [
        "#Defining the initial weights and bias\n",
        "weight = np.zeros(X_train.shape[1])\n",
        "bias = 0"
      ],
      "metadata": {
        "id": "q-OdRzWom1oP"
      },
      "execution_count": 35,
      "outputs": []
    },
    {
      "cell_type": "markdown",
      "source": [
        "# Activation Functions"
      ],
      "metadata": {
        "id": "j9sEOOAbvio8"
      }
    },
    {
      "cell_type": "code",
      "source": [
        "def sigmoidFunction(x1): \n",
        "    return 1/(1+np.exp(-x1))\n",
        "\n",
        "def tanh(x2):\n",
        "    t = (np.exp(x2)-np.exp(-x2))/(np.exp(x2)+np.exp(-x2))\n",
        "    return 1-t**2"
      ],
      "metadata": {
        "id": "sUGoj9_zn0gK"
      },
      "execution_count": 35,
      "outputs": []
    },
    {
      "cell_type": "code",
      "source": [
        "# log loss \n",
        "def logLoss(m,Y,Z):\n",
        "    return (-1/m)*np.sum((Y*np.log(Z))+(1-Y)*np.log(1-Z))"
      ],
      "metadata": {
        "id": "hEyMoFIIvevE"
      },
      "execution_count": null,
      "outputs": []
    },
    {
      "cell_type": "code",
      "source": [
        "# Metrics function\n",
        "\n",
        "def Metrics(y_actual,y_hat):\n",
        "    TP = 0 #True Positives\n",
        "    FP = 0 # False Positives\n",
        "    TN = 0 # True Negatives\n",
        "    FN = 0 # False Negatives\n",
        "\n",
        "    for i in range(len(y_hat)): \n",
        "        if y_actual[i]==y_hat[i]==1:\n",
        "            TP += 1\n",
        "        if y_hat[i]==1 and y_actual[i]!=y_hat[i]:\n",
        "            FP += 1\n",
        "        if y_actual[i]==y_hat[i]==0:\n",
        "            TN += 1\n",
        "        if y_hat[i]==0 and y_actual[i]!=y_hat[i]:\n",
        "            FN += 1\n",
        "    #Precision Score\n",
        "    precision = TP / (FP + TP)\n",
        "    #Recall Score\n",
        "    recall = TP / (FN + TP)\n",
        "    #Accuracy\n",
        "    accuracy = ((TP + TN)/ (TP + FN + TN + FP)) * 100\n",
        "    #F1 Score\n",
        "    F1_Score = 2* precision * recall/ (precision + recall)\n",
        "    print(f'Accuracy: {round(accuracy,2)}%')\n",
        "    print(f'Precision:{round(precision,2)}')\n",
        "    print(f'Recall Score:{round(recall,2)}')\n",
        "    print(f'F1 Score:{round(F1_Score,2)}')"
      ],
      "metadata": {
        "id": "9XHyIhG6vey9"
      },
      "execution_count": null,
      "outputs": []
    },
    {
      "cell_type": "code",
      "source": [],
      "metadata": {
        "id": "F8iir-yave2s"
      },
      "execution_count": null,
      "outputs": []
    },
    {
      "cell_type": "code",
      "source": [],
      "metadata": {
        "id": "WExriRL1ve6o"
      },
      "execution_count": null,
      "outputs": []
    },
    {
      "cell_type": "code",
      "source": [],
      "metadata": {
        "id": "29qNIFuEve-O"
      },
      "execution_count": null,
      "outputs": []
    },
    {
      "cell_type": "code",
      "source": [],
      "metadata": {
        "id": "iOY47UOIvfB4"
      },
      "execution_count": null,
      "outputs": []
    },
    {
      "cell_type": "markdown",
      "source": [
        "# Sigmoid activation function"
      ],
      "metadata": {
        "id": "c3aUOlIRdDGq"
      }
    },
    {
      "cell_type": "markdown",
      "source": [
        "σ(x) = 1 / (1 + e^(-x))"
      ],
      "metadata": {
        "id": "O01SUqEpdOV6"
      }
    },
    {
      "cell_type": "code",
      "source": [
        "import math"
      ],
      "metadata": {
        "id": "L9hdLHHGbOIB"
      },
      "execution_count": 36,
      "outputs": []
    },
    {
      "cell_type": "code",
      "source": [
        "#Defining the sigmoid function \n",
        "def Sigmoid(x):\n",
        "    return 1 / (1 + math.exp(-x))"
      ],
      "metadata": {
        "id": "ox5ip9xgbOEh"
      },
      "execution_count": 37,
      "outputs": []
    },
    {
      "cell_type": "code",
      "source": [
        "from collections import defaultdict\n",
        "\n",
        "loss = 0\n",
        "y_pred = defaultdict(list)\n",
        "for i in range(X_train.shape[0]):\n",
        "    y_pred = Sigmoid(np.dot(X_train[i],weight) + bias) \n",
        "    y = y_train[i]\n",
        "    loss += np.multiply(np.log(y_pred), y) + np.multiply(np.log(1-y_pred), 1-y)\n",
        "loss = - loss/X_train.shape[1]\n",
        "print(loss)"
      ],
      "metadata": {
        "colab": {
          "base_uri": "https://localhost:8080/"
        },
        "id": "Xn2hMU2MbOMR",
        "outputId": "c35c60d3-15ba-48eb-f211-684249eee12e"
      },
      "execution_count": 38,
      "outputs": [
        {
          "output_type": "stream",
          "name": "stdout",
          "text": [
            "18.874930916786248\n"
          ]
        }
      ]
    },
    {
      "cell_type": "code",
      "source": [
        "# accuracy function:\n",
        "def accuracy_metrics(actual, predicted):\n",
        "    correct = 0\n",
        "    for i in range(len(actual)):\n",
        "        if (actual[i]>0.5) == (predicted[i]>0.5):\n",
        "            correct += 1\n",
        "    return correct / float(len(actual)) * 100.0"
      ],
      "metadata": {
        "id": "v_GF83scdpGx"
      },
      "execution_count": 39,
      "outputs": []
    },
    {
      "cell_type": "code",
      "source": [
        "# Defining the training hyperparameters\n",
        "max_epoch = 100\n",
        "learning_rate = 0.01\n",
        "Training_data = {\"trainLoss\":[],\"testLoss\":[],\"trainAccuracy\":[],\"testAccuracy\":[]}"
      ],
      "metadata": {
        "id": "26w9Q_KNdpKR"
      },
      "execution_count": 40,
      "outputs": []
    },
    {
      "cell_type": "code",
      "source": [
        "def fit_train():\n",
        "    y_pred = []\n",
        "    loss = 0\n",
        "    for i in range(X_train.shape[0]):\n",
        "        y_pred_temp = Sigmoid(np.dot(X_train[i],weight) + bias)        \n",
        "        loss += np.multiply(np.log(y_pred_temp), y_train[i])+ np.multiply(np.log(1-y_pred_temp), 1-y_train[i]) \n",
        "        y_pred.append(y_pred_temp)\n",
        "    loss = -loss/X_train.shape[1]\n",
        "    \n",
        "    return y_pred, loss"
      ],
      "metadata": {
        "id": "4tttzUE3dpNx"
      },
      "execution_count": 41,
      "outputs": []
    },
    {
      "cell_type": "code",
      "source": [
        "def fit_test():\n",
        "    y_pred_test = []\n",
        "    loss_test = 0\n",
        "    for i in range(X_test.shape[0]):\n",
        "        y_pred_temp = Sigmoid(np.dot(X_test[i],weight)+bias)        \n",
        "        loss_test += -(np.multiply(np.log(y_pred_temp), y_test[i])+ np.multiply(np.log(1-y_pred_temp), 1-y_test[i]))\n",
        "        y_pred_test.append(y_pred_temp)    \n",
        "        \n",
        "    return y_pred_test, loss_test"
      ],
      "metadata": {
        "id": "bctOsGhzdpRS"
      },
      "execution_count": 42,
      "outputs": []
    },
    {
      "cell_type": "code",
      "source": [
        "def update_bias(bias):\n",
        "    grad_bias = 0\n",
        "    grad_w = np.zeros(len(weight))\n",
        "    for i in range(X_train.shape[0]):        \n",
        "        grad_bias += (y_pred[i] - y_train[i])*(y_pred[i])*(1-y_pred[i]) #dJ/db\n",
        "        for j in range(len(weight)):\n",
        "            grad_w[j] += (y_pred[i] - y_train[i])*(y_pred[i])*(1-y_pred[i])*(X_train[i][j])\n",
        "\n",
        "    bias = bias - grad_bias*learning_rate/X_train.shape[0]   \n",
        "    \n",
        "    return grad_w, bias"
      ],
      "metadata": {
        "id": "PpQU52UYdpU1"
      },
      "execution_count": 43,
      "outputs": []
    },
    {
      "cell_type": "code",
      "source": [
        "def update_weight(): \n",
        "    for j in range(len(weight)):\n",
        "        weight[j] = weight[j] - grad_w[j]*learning_rate/X_train.shape[0]\n",
        "    \n",
        "    return weight"
      ],
      "metadata": {
        "id": "CkLLSHKwdpYj"
      },
      "execution_count": 44,
      "outputs": []
    },
    {
      "cell_type": "code",
      "source": [
        "for epoch in range(max_epoch):\n",
        "\n",
        "    y_pred, loss = fit_train()\n",
        "    y_pred_test, loss_test = fit_test()\n",
        "       \n",
        "    loss_test = loss_test/(2*X_test.shape[0])\n",
        "    trainAcc = accuracy_metrics(y_train,y_pred)\n",
        "    testAcc = accuracy_metrics(y_test,y_pred_test)\n",
        "    \n",
        "    Training_data[\"trainLoss\"].append(loss)\n",
        "    Training_data[\"testLoss\"].append(loss_test)\n",
        "    Training_data[\"trainAccuracy\"].append(trainAcc)\n",
        "    Training_data[\"testAccuracy\"].append(testAcc)\n",
        "    \n",
        "    \n",
        "    if epoch%10==0:\n",
        "        print(\"Training loss:%f\" %(loss))\n",
        "        print(\"Test loss:%f\" %(loss_test))\n",
        "        print(\"Training accuracy: %f\" %(trainAcc))\n",
        "        print(\"Validation accuracy: %f\" %(testAcc))\n",
        "    y_pred = np.array(y_pred)\n",
        "    \n",
        "    grad_w, bias = update_bias(bias)\n",
        "    \n",
        "    weight = update_weight()"
      ],
      "metadata": {
        "colab": {
          "base_uri": "https://localhost:8080/"
        },
        "id": "UU3TiUwkdpcS",
        "outputId": "20fd54e9-ffb7-4b9a-cff1-18aa9364d722"
      },
      "execution_count": 46,
      "outputs": [
        {
          "output_type": "stream",
          "name": "stdout",
          "text": [
            "Training loss:-1604.900082\n",
            "Test loss:-31.859429\n",
            "Training accuracy: 100.000000\n",
            "Validation accuracy: 100.000000\n",
            "Training loss:-1670.106354\n",
            "Test loss:-33.113755\n",
            "Training accuracy: 100.000000\n",
            "Validation accuracy: 100.000000\n",
            "Training loss:-1729.417577\n",
            "Test loss:-34.256062\n",
            "Training accuracy: 100.000000\n",
            "Validation accuracy: 100.000000\n",
            "Training loss:-1783.744575\n",
            "Test loss:-35.303429\n",
            "Training accuracy: 100.000000\n",
            "Validation accuracy: 100.000000\n",
            "Training loss:-1833.814142\n",
            "Test loss:-36.269543\n",
            "Training accuracy: 100.000000\n",
            "Validation accuracy: 100.000000\n",
            "Training loss:-1880.212415\n",
            "Test loss:-37.165480\n",
            "Training accuracy: 100.000000\n",
            "Validation accuracy: 100.000000\n",
            "Training loss:-1923.417193\n",
            "Test loss:-38.000291\n",
            "Training accuracy: 100.000000\n",
            "Validation accuracy: 100.000000\n",
            "Training loss:-1963.822018\n",
            "Test loss:-38.781447\n",
            "Training accuracy: 100.000000\n",
            "Validation accuracy: 100.000000\n",
            "Training loss:-2001.754216\n",
            "Test loss:-39.515174\n",
            "Training accuracy: 100.000000\n",
            "Validation accuracy: 100.000000\n",
            "Training loss:-2037.488531\n",
            "Test loss:-40.206703\n",
            "Training accuracy: 100.000000\n",
            "Validation accuracy: 100.000000\n"
          ]
        }
      ]
    },
    {
      "cell_type": "code",
      "source": [],
      "metadata": {
        "id": "u2blGzNtdpgD"
      },
      "execution_count": null,
      "outputs": []
    },
    {
      "cell_type": "code",
      "source": [],
      "metadata": {
        "id": "T03_xnENESvS"
      },
      "execution_count": null,
      "outputs": []
    },
    {
      "cell_type": "code",
      "source": [
        "df.info()"
      ],
      "metadata": {
        "colab": {
          "base_uri": "https://localhost:8080/"
        },
        "id": "r8cB2fcl9x2S",
        "outputId": "afd41ee1-e67c-46f2-dff2-e81d6b5cb416"
      },
      "execution_count": null,
      "outputs": [
        {
          "output_type": "stream",
          "name": "stdout",
          "text": [
            "<class 'pandas.core.frame.DataFrame'>\n",
            "RangeIndex: 506 entries, 0 to 505\n",
            "Data columns (total 14 columns):\n",
            " #   Column   Non-Null Count  Dtype  \n",
            "---  ------   --------------  -----  \n",
            " 0   CRIM     506 non-null    float64\n",
            " 1   ZN       506 non-null    float64\n",
            " 2   INDUS    506 non-null    float64\n",
            " 3   CHAS     506 non-null    int64  \n",
            " 4   NOX      506 non-null    float64\n",
            " 5   RM       506 non-null    float64\n",
            " 6   AGE      506 non-null    float64\n",
            " 7   DIS      506 non-null    float64\n",
            " 8   RAD      506 non-null    int64  \n",
            " 9   TAX      506 non-null    float64\n",
            " 10  PTRATIO  506 non-null    float64\n",
            " 11  B        506 non-null    float64\n",
            " 12  LSTAT    506 non-null    float64\n",
            " 13  MEDV     506 non-null    float64\n",
            "dtypes: float64(12), int64(2)\n",
            "memory usage: 55.5 KB\n"
          ]
        }
      ]
    },
    {
      "cell_type": "markdown",
      "source": [
        "**Normalization**"
      ],
      "metadata": {
        "id": "bGNf6Iuy-8RC"
      }
    },
    {
      "cell_type": "code",
      "source": [
        "columns = [col for col in df.columns if len(np.unique(df[col]))>50]\n",
        "columns.remove('MEDV')\n",
        "columns"
      ],
      "metadata": {
        "colab": {
          "base_uri": "https://localhost:8080/"
        },
        "id": "Vd3R0WYB9x_S",
        "outputId": "65897692-4ac2-45ae-91f2-f21720f63b79"
      },
      "execution_count": null,
      "outputs": [
        {
          "output_type": "execute_result",
          "data": {
            "text/plain": [
              "['CRIM', 'INDUS', 'NOX', 'RM', 'AGE', 'DIS', 'TAX', 'B', 'LSTAT']"
            ]
          },
          "metadata": {},
          "execution_count": 15
        }
      ]
    },
    {
      "cell_type": "code",
      "source": [
        "for col in columns:\n",
        "    fig,ax = plt.subplots(nrows=1,ncols=2,figsize=(20,1.5))\n",
        "    \n",
        "    sns.histplot(df[col],bins=50,ax=ax[0])\n",
        "    ax[0].set_title('original')\n",
        "    \n",
        "    quantile_transformer = preprocessing.QuantileTransformer(output_distribution='normal',n_quantiles=int(len(df)/20), random_state=0)\n",
        "    X_trans = quantile_transformer.fit_transform(df[col].values.reshape((len(df),1)))\n",
        "    sns.histplot(X_trans,bins=50,ax=ax[1])\n",
        "    ax[1].set_title('normalized')\n",
        "    \n",
        "    plt.suptitle(col,fontsize=20,y=1.2)\n",
        "    plt.show()"
      ],
      "metadata": {
        "colab": {
          "base_uri": "https://localhost:8080/",
          "height": 378
        },
        "id": "fcxyFNGH9yDB",
        "outputId": "976ea842-a29b-4a2b-9600-52bf3dcc1732"
      },
      "execution_count": null,
      "outputs": [
        {
          "output_type": "error",
          "ename": "NameError",
          "evalue": "ignored",
          "traceback": [
            "\u001b[0;31m---------------------------------------------------------------------------\u001b[0m",
            "\u001b[0;31mNameError\u001b[0m                                 Traceback (most recent call last)",
            "\u001b[0;32m<ipython-input-17-cf00a0e390a3>\u001b[0m in \u001b[0;36m<module>\u001b[0;34m\u001b[0m\n\u001b[1;32m      5\u001b[0m     \u001b[0max\u001b[0m\u001b[0;34m[\u001b[0m\u001b[0;36m0\u001b[0m\u001b[0;34m]\u001b[0m\u001b[0;34m.\u001b[0m\u001b[0mset_title\u001b[0m\u001b[0;34m(\u001b[0m\u001b[0;34m'original'\u001b[0m\u001b[0;34m)\u001b[0m\u001b[0;34m\u001b[0m\u001b[0;34m\u001b[0m\u001b[0m\n\u001b[1;32m      6\u001b[0m \u001b[0;34m\u001b[0m\u001b[0m\n\u001b[0;32m----> 7\u001b[0;31m     \u001b[0mquantile_transformer\u001b[0m \u001b[0;34m=\u001b[0m \u001b[0mpreprocessing\u001b[0m\u001b[0;34m.\u001b[0m\u001b[0mQuantileTransformer\u001b[0m\u001b[0;34m(\u001b[0m\u001b[0moutput_distribution\u001b[0m\u001b[0;34m=\u001b[0m\u001b[0;34m'normal'\u001b[0m\u001b[0;34m,\u001b[0m\u001b[0mn_quantiles\u001b[0m\u001b[0;34m=\u001b[0m\u001b[0mint\u001b[0m\u001b[0;34m(\u001b[0m\u001b[0mlen\u001b[0m\u001b[0;34m(\u001b[0m\u001b[0mdf\u001b[0m\u001b[0;34m)\u001b[0m\u001b[0;34m/\u001b[0m\u001b[0;36m20\u001b[0m\u001b[0;34m)\u001b[0m\u001b[0;34m,\u001b[0m \u001b[0mrandom_state\u001b[0m\u001b[0;34m=\u001b[0m\u001b[0;36m0\u001b[0m\u001b[0;34m)\u001b[0m\u001b[0;34m\u001b[0m\u001b[0;34m\u001b[0m\u001b[0m\n\u001b[0m\u001b[1;32m      8\u001b[0m     \u001b[0mX_trans\u001b[0m \u001b[0;34m=\u001b[0m \u001b[0mquantile_transformer\u001b[0m\u001b[0;34m.\u001b[0m\u001b[0mfit_transform\u001b[0m\u001b[0;34m(\u001b[0m\u001b[0mdf\u001b[0m\u001b[0;34m[\u001b[0m\u001b[0mcol\u001b[0m\u001b[0;34m]\u001b[0m\u001b[0;34m.\u001b[0m\u001b[0mvalues\u001b[0m\u001b[0;34m.\u001b[0m\u001b[0mreshape\u001b[0m\u001b[0;34m(\u001b[0m\u001b[0;34m(\u001b[0m\u001b[0mlen\u001b[0m\u001b[0;34m(\u001b[0m\u001b[0mdf\u001b[0m\u001b[0;34m)\u001b[0m\u001b[0;34m,\u001b[0m\u001b[0;36m1\u001b[0m\u001b[0;34m)\u001b[0m\u001b[0;34m)\u001b[0m\u001b[0;34m)\u001b[0m\u001b[0;34m\u001b[0m\u001b[0;34m\u001b[0m\u001b[0m\n\u001b[1;32m      9\u001b[0m     \u001b[0msns\u001b[0m\u001b[0;34m.\u001b[0m\u001b[0mhistplot\u001b[0m\u001b[0;34m(\u001b[0m\u001b[0mX_trans\u001b[0m\u001b[0;34m,\u001b[0m\u001b[0mbins\u001b[0m\u001b[0;34m=\u001b[0m\u001b[0;36m50\u001b[0m\u001b[0;34m,\u001b[0m\u001b[0max\u001b[0m\u001b[0;34m=\u001b[0m\u001b[0max\u001b[0m\u001b[0;34m[\u001b[0m\u001b[0;36m1\u001b[0m\u001b[0;34m]\u001b[0m\u001b[0;34m)\u001b[0m\u001b[0;34m\u001b[0m\u001b[0;34m\u001b[0m\u001b[0m\n",
            "\u001b[0;31mNameError\u001b[0m: name 'preprocessing' is not defined"
          ]
        },
        {
          "output_type": "display_data",
          "data": {
            "text/plain": [
              "<Figure size 1440x108 with 2 Axes>"
            ],
            "image/png": "[encoded data removed]"
          },
          "metadata": {
            "needs_background": "light"
          }
        }
      ]
    },
    {
      "cell_type": "code",
      "source": [],
      "metadata": {
        "id": "LF6qaJju9yGb"
      },
      "execution_count": null,
      "outputs": []
    },
    {
      "cell_type": "code",
      "source": [],
      "metadata": {
        "id": "lRVBQVK29yNh"
      },
      "execution_count": null,
      "outputs": []
    },
    {
      "cell_type": "code",
      "source": [],
      "metadata": {
        "id": "4A5Md48b9yRY"
      },
      "execution_count": null,
      "outputs": []
    },
    {
      "cell_type": "code",
      "source": [],
      "metadata": {
        "id": "D61alqEU9yVK"
      },
      "execution_count": null,
      "outputs": []
    },
    {
      "cell_type": "code",
      "source": [],
      "metadata": {
        "id": "TxcipqK19yY4"
      },
      "execution_count": null,
      "outputs": []
    },
    {
      "cell_type": "code",
      "source": [],
      "metadata": {
        "id": "wz7xZHzA9ycx"
      },
      "execution_count": null,
      "outputs": []
    }
  ]
}